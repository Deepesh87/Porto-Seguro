{
 "cells": [
  {
   "cell_type": "code",
   "execution_count": 1,
   "metadata": {},
   "outputs": [],
   "source": [
    "%run Libraries.ipynb"
   ]
  },
  {
   "cell_type": "code",
   "execution_count": 2,
   "metadata": {},
   "outputs": [],
   "source": [
    "class ObjectOrientedPorto:\n",
    "    \"\"\"\n",
    "\n",
    "    \"\"\"\n",
    "    def __init__(self,train,test):\n",
    "        \n",
    "        \"\"\"\n",
    "        has 3 functions,1)  _get_all_data to merge train & test\n",
    "        2)_info to get var types in the data, NA info etc\n",
    "        3) describe_data to do descriptive stats\n",
    "        \"\"\"\n",
    "        print(\"Object Oriented Porto Object Created\")\n",
    "        self.y_train=train['target']\n",
    "        self.train=train.drop('target',axis=1)\n",
    "        self.test=test\n",
    "        self.train_len=train.shape[0]\n",
    "        self.test_len=test.shape[0]\n",
    "        \n",
    "        #concat train and test data\n",
    "        self.all_data=self._get_all_data()\n",
    "        self._info=self._info()\n",
    "        #self.describe_data=self.describe_data()\n",
    "        \n",
    "        \n",
    "        \n",
    "    def _get_all_data(self):\n",
    "        \"\"\"\n",
    "        merge train and test to do basic Descriptive Stats analysis\n",
    "        \"\"\"\n",
    "        return pd.concat([self.train,self.test],axis=0)\n",
    "\n",
    "    \n",
    "    def _info(self):\n",
    "        \"\"\"\n",
    "        we will use this to manage the data. Call variables as per the var type,wheather to include them into modelling etc.\n",
    "        \"\"\"\n",
    "        level=[]\n",
    "        for feature in self.all_data.columns:\n",
    "            if 'cat' in feature or feature=='id':\n",
    "                level.append('nominal')\n",
    "            elif 'bin' in feature:\n",
    "                level.append('binary')\n",
    "            elif train[feature].dtypes=='int64':\n",
    "                level.append('ordinal')\n",
    "            elif train[feature].dtypes=='float64':\n",
    "                level.append('interval')\n",
    "                \n",
    "        meta=pd.DataFrame(level,columns=['level'])\n",
    "        meta['role']=['id' if feature=='id' else 'input' for feature in self.all_data.columns]\n",
    "        meta.index=self.all_data.columns\n",
    "        meta['keep']=True        \n",
    "        meta['dtype']=[self.all_data[feature].dtype for feature in self.all_data.columns]\n",
    "        meta['Missing_Count']=list(map(lambda x: sum(self.all_data[x]==-1),self.all_data.columns))\n",
    "        meta['Missing_Percent']=round(meta['Missing_Count']*100/self.all_data.shape[0],2)\n",
    "        meta.loc[meta['Missing_Percent']>25, 'keep']=False\n",
    "        meta.loc['id','keep']=False\n",
    "        return meta\n",
    "    \n",
    "    def describe_data(self,var_type):\n",
    "        \"\"\"\n",
    "        this output will help us understand the range,variance and if scaling is needed etc.\n",
    "        \"\"\"\n",
    "        temp=self._info[(self._info.level==var_type) & (self._info.keep)].index\n",
    "        print(\"{} Variable\".format(var_type))\n",
    "        print(\"=======================\")\n",
    "        return(self.all_data[temp].describe())"
   ]
  },
  {
   "cell_type": "code",
   "execution_count": 3,
   "metadata": {},
   "outputs": [],
   "source": [
    "class Preprocess(ObjectOrientedPorto):\n",
    "    \n",
    "    def __init__(self,train,test,val_size=None):\n",
    "        print(\"Preprocess Object Created\")\n",
    "        super().__init__(train,test)\n",
    "        if val_size==None:\n",
    "            self.val_size=0.3\n",
    "        else:\n",
    "            self.val_size=val_size\n",
    "            \n",
    "          \n",
    "    \n",
    "    def _get_train_test_val_split(self,val_size):\n",
    "        \"\"\"\n",
    "        return a dic with keys X_train,y_train,X_val,y_val,X_test\n",
    "        \"\"\"\n",
    "        data_dic={}\n",
    "        self.train=self.all_data.head(self.train_len)\n",
    "        self.test=self.all_data.tail(self.test_len)\n",
    "        X_train, X_val,y_train, y_val=train_test_split(self.train,self.y_train,test_size=val_size,random_state=42)\n",
    "        data_dic['X_train']=X_train\n",
    "        data_dic['X_val']=X_val\n",
    "        data_dic['y_train']=y_train\n",
    "        data_dic['y_val']=y_val\n",
    "        data_dic['X_test']=self.test\n",
    "        return data_dic\n",
    "        \n",
    "        \n",
    "    def fillna(self,val_size=None):\n",
    "        \"\"\"\n",
    "        Keep nominal variables with NA as is (-1)\n",
    "        Replace interval variables with NA by median\n",
    "        Replace ordinal variables with NA by mode\n",
    "        \n",
    "        \"\"\"\n",
    "        if val_size==None:\n",
    "            val_size=self.val_size\n",
    "            \n",
    "        get_data=self._get_train_test_val_split(val_size)\n",
    "        info=self._info\n",
    "        interval_features=(info [(info['keep'])&(info['Missing_Count']>0)& (info['level']=='interval')]).index\n",
    "        ordinal_features=(info [(info['keep'])&(info['Missing_Count']>0)& (info['level']=='ordinal')]).index\n",
    "\n",
    "        for i in interval_features:\n",
    "            get_data['X_train'][i]=get_data['X_train'][i].replace(-1,get_data['X_train'][i].median())\n",
    "            get_data['X_val'][i]=get_data['X_val'][i].replace(-1,get_data['X_train'][i].median())\n",
    "            get_data['X_test'][i]=get_data['X_test'][i].replace(-1,get_data['X_train'][i].median())\n",
    "        \n",
    "        for j in ordinal_features:\n",
    "            get_data['X_train'][j]=get_data['X_train'][i].replace(-1,get_data['X_train'][i].mode()[0])\n",
    "            get_data['X_val'][j]=get_data['X_val'][i].replace(-1,get_data['X_train'][i].mode()[0])\n",
    "            get_data['X_test'][j]=get_data['X_test'][i].replace(-1,get_data['X_train'][i].mode()[0])\n",
    "            \n",
    "        return get_data\n",
    "\n",
    "    \n",
    "            \n",
    "    def check_cardinality(self):\n",
    "        \"\"\"\n",
    "        Gives the number of distict levels for each categorical variable\n",
    "        \"\"\"\n",
    "        info=self._info\n",
    "        nominal_features=(info [(info['keep'])& (info['level']=='nominal')]).index\n",
    "        \n",
    "        for i in nominal_features:\n",
    "            print('variable {} has {} distinct levels'.format(i,self.all_data[i].value_counts().shape[0]))\n",
    "            \n",
    "    def fix_cardinality(self,column_name):\n",
    "        \"\"\"\n",
    "        data  a dic\n",
    "        fix cardinality for a COLUMN ( variable that has too many dictinct levels). By P(1) \n",
    "        for that level or apriori if the level doesnot exist. This will give 3 series as output.\n",
    "        Add them then to the data ( train, val, test ) with post script _TE ( target encoded )\n",
    "        \"\"\"\n",
    "        data=self.fillna(val_size=None)\n",
    "        #column_name='ps_car_11_cat'\n",
    "        \n",
    "        \n",
    "        train_encoded,val_encoded, test_encoded= target_encode(data['X_train'][column_name],\\\n",
    "                                                               data['X_val'][column_name],data['X_test'][column_name],\\\n",
    "                                                               target=data['y_train']) \n",
    "        \n",
    "        \n",
    "        data['X_train'][column_name+'_TE']=train_encoded\n",
    "        data['X_val'][column_name+'_TE']=val_encoded\n",
    "        data['X_test'][column_name+'_TE']=test_encoded\n",
    "        info=super()._info() #update the meta data\n",
    "        info.loc[column_name,'keep']=False\n",
    "        \n",
    "        return (data,info)"
   ]
  },
  {
   "cell_type": "code",
   "execution_count": 5,
   "metadata": {},
   "outputs": [
    {
     "name": "stdout",
     "output_type": "stream",
     "text": [
      "Object Oriented Porto Object Created\n",
      "nominal Variable\n",
      "=======================\n"
     ]
    },
    {
     "data": {
      "text/html": [
       "<div>\n",
       "<style scoped>\n",
       "    .dataframe tbody tr th:only-of-type {\n",
       "        vertical-align: middle;\n",
       "    }\n",
       "\n",
       "    .dataframe tbody tr th {\n",
       "        vertical-align: top;\n",
       "    }\n",
       "\n",
       "    .dataframe thead th {\n",
       "        text-align: right;\n",
       "    }\n",
       "</style>\n",
       "<table border=\"1\" class=\"dataframe\">\n",
       "  <thead>\n",
       "    <tr style=\"text-align: right;\">\n",
       "      <th></th>\n",
       "      <th>ps_ind_02_cat</th>\n",
       "      <th>ps_ind_04_cat</th>\n",
       "      <th>ps_ind_05_cat</th>\n",
       "      <th>ps_car_01_cat</th>\n",
       "      <th>ps_car_02_cat</th>\n",
       "      <th>ps_car_04_cat</th>\n",
       "      <th>ps_car_06_cat</th>\n",
       "      <th>ps_car_07_cat</th>\n",
       "      <th>ps_car_08_cat</th>\n",
       "      <th>ps_car_09_cat</th>\n",
       "      <th>ps_car_10_cat</th>\n",
       "      <th>ps_car_11_cat</th>\n",
       "    </tr>\n",
       "  </thead>\n",
       "  <tbody>\n",
       "    <tr>\n",
       "      <th>count</th>\n",
       "      <td>1.488028e+06</td>\n",
       "      <td>1.488028e+06</td>\n",
       "      <td>1.488028e+06</td>\n",
       "      <td>1.488028e+06</td>\n",
       "      <td>1.488028e+06</td>\n",
       "      <td>1.488028e+06</td>\n",
       "      <td>1.488028e+06</td>\n",
       "      <td>1.488028e+06</td>\n",
       "      <td>1.488028e+06</td>\n",
       "      <td>1.488028e+06</td>\n",
       "      <td>1.488028e+06</td>\n",
       "      <td>1.488028e+06</td>\n",
       "    </tr>\n",
       "    <tr>\n",
       "      <th>mean</th>\n",
       "      <td>1.358745e+00</td>\n",
       "      <td>4.171346e-01</td>\n",
       "      <td>4.069547e-01</td>\n",
       "      <td>8.293596e+00</td>\n",
       "      <td>8.299367e-01</td>\n",
       "      <td>7.255556e-01</td>\n",
       "      <td>6.560714e+00</td>\n",
       "      <td>9.100971e-01</td>\n",
       "      <td>8.322189e-01</td>\n",
       "      <td>1.328302e+00</td>\n",
       "      <td>9.921346e-01</td>\n",
       "      <td>6.225685e+01</td>\n",
       "    </tr>\n",
       "    <tr>\n",
       "      <th>std</th>\n",
       "      <td>6.636391e-01</td>\n",
       "      <td>4.933963e-01</td>\n",
       "      <td>1.353300e+00</td>\n",
       "      <td>2.508307e+00</td>\n",
       "      <td>3.757064e-01</td>\n",
       "      <td>2.154316e+00</td>\n",
       "      <td>5.500869e+00</td>\n",
       "      <td>3.472121e-01</td>\n",
       "      <td>3.736719e-01</td>\n",
       "      <td>9.787431e-01</td>\n",
       "      <td>9.156538e-02</td>\n",
       "      <td>3.300722e+01</td>\n",
       "    </tr>\n",
       "    <tr>\n",
       "      <th>min</th>\n",
       "      <td>-1.000000e+00</td>\n",
       "      <td>-1.000000e+00</td>\n",
       "      <td>-1.000000e+00</td>\n",
       "      <td>-1.000000e+00</td>\n",
       "      <td>-1.000000e+00</td>\n",
       "      <td>0.000000e+00</td>\n",
       "      <td>0.000000e+00</td>\n",
       "      <td>-1.000000e+00</td>\n",
       "      <td>0.000000e+00</td>\n",
       "      <td>-1.000000e+00</td>\n",
       "      <td>0.000000e+00</td>\n",
       "      <td>1.000000e+00</td>\n",
       "    </tr>\n",
       "    <tr>\n",
       "      <th>25%</th>\n",
       "      <td>1.000000e+00</td>\n",
       "      <td>0.000000e+00</td>\n",
       "      <td>0.000000e+00</td>\n",
       "      <td>7.000000e+00</td>\n",
       "      <td>1.000000e+00</td>\n",
       "      <td>0.000000e+00</td>\n",
       "      <td>1.000000e+00</td>\n",
       "      <td>1.000000e+00</td>\n",
       "      <td>1.000000e+00</td>\n",
       "      <td>0.000000e+00</td>\n",
       "      <td>1.000000e+00</td>\n",
       "      <td>3.200000e+01</td>\n",
       "    </tr>\n",
       "    <tr>\n",
       "      <th>50%</th>\n",
       "      <td>1.000000e+00</td>\n",
       "      <td>0.000000e+00</td>\n",
       "      <td>0.000000e+00</td>\n",
       "      <td>7.000000e+00</td>\n",
       "      <td>1.000000e+00</td>\n",
       "      <td>0.000000e+00</td>\n",
       "      <td>7.000000e+00</td>\n",
       "      <td>1.000000e+00</td>\n",
       "      <td>1.000000e+00</td>\n",
       "      <td>2.000000e+00</td>\n",
       "      <td>1.000000e+00</td>\n",
       "      <td>6.500000e+01</td>\n",
       "    </tr>\n",
       "    <tr>\n",
       "      <th>75%</th>\n",
       "      <td>2.000000e+00</td>\n",
       "      <td>1.000000e+00</td>\n",
       "      <td>0.000000e+00</td>\n",
       "      <td>1.100000e+01</td>\n",
       "      <td>1.000000e+00</td>\n",
       "      <td>0.000000e+00</td>\n",
       "      <td>1.100000e+01</td>\n",
       "      <td>1.000000e+00</td>\n",
       "      <td>1.000000e+00</td>\n",
       "      <td>2.000000e+00</td>\n",
       "      <td>1.000000e+00</td>\n",
       "      <td>9.400000e+01</td>\n",
       "    </tr>\n",
       "    <tr>\n",
       "      <th>max</th>\n",
       "      <td>4.000000e+00</td>\n",
       "      <td>1.000000e+00</td>\n",
       "      <td>6.000000e+00</td>\n",
       "      <td>1.100000e+01</td>\n",
       "      <td>1.000000e+00</td>\n",
       "      <td>9.000000e+00</td>\n",
       "      <td>1.700000e+01</td>\n",
       "      <td>1.000000e+00</td>\n",
       "      <td>1.000000e+00</td>\n",
       "      <td>4.000000e+00</td>\n",
       "      <td>2.000000e+00</td>\n",
       "      <td>1.040000e+02</td>\n",
       "    </tr>\n",
       "  </tbody>\n",
       "</table>\n",
       "</div>"
      ],
      "text/plain": [
       "       ps_ind_02_cat  ps_ind_04_cat  ps_ind_05_cat  ps_car_01_cat  \\\n",
       "count   1.488028e+06   1.488028e+06   1.488028e+06   1.488028e+06   \n",
       "mean    1.358745e+00   4.171346e-01   4.069547e-01   8.293596e+00   \n",
       "std     6.636391e-01   4.933963e-01   1.353300e+00   2.508307e+00   \n",
       "min    -1.000000e+00  -1.000000e+00  -1.000000e+00  -1.000000e+00   \n",
       "25%     1.000000e+00   0.000000e+00   0.000000e+00   7.000000e+00   \n",
       "50%     1.000000e+00   0.000000e+00   0.000000e+00   7.000000e+00   \n",
       "75%     2.000000e+00   1.000000e+00   0.000000e+00   1.100000e+01   \n",
       "max     4.000000e+00   1.000000e+00   6.000000e+00   1.100000e+01   \n",
       "\n",
       "       ps_car_02_cat  ps_car_04_cat  ps_car_06_cat  ps_car_07_cat  \\\n",
       "count   1.488028e+06   1.488028e+06   1.488028e+06   1.488028e+06   \n",
       "mean    8.299367e-01   7.255556e-01   6.560714e+00   9.100971e-01   \n",
       "std     3.757064e-01   2.154316e+00   5.500869e+00   3.472121e-01   \n",
       "min    -1.000000e+00   0.000000e+00   0.000000e+00  -1.000000e+00   \n",
       "25%     1.000000e+00   0.000000e+00   1.000000e+00   1.000000e+00   \n",
       "50%     1.000000e+00   0.000000e+00   7.000000e+00   1.000000e+00   \n",
       "75%     1.000000e+00   0.000000e+00   1.100000e+01   1.000000e+00   \n",
       "max     1.000000e+00   9.000000e+00   1.700000e+01   1.000000e+00   \n",
       "\n",
       "       ps_car_08_cat  ps_car_09_cat  ps_car_10_cat  ps_car_11_cat  \n",
       "count   1.488028e+06   1.488028e+06   1.488028e+06   1.488028e+06  \n",
       "mean    8.322189e-01   1.328302e+00   9.921346e-01   6.225685e+01  \n",
       "std     3.736719e-01   9.787431e-01   9.156538e-02   3.300722e+01  \n",
       "min     0.000000e+00  -1.000000e+00   0.000000e+00   1.000000e+00  \n",
       "25%     1.000000e+00   0.000000e+00   1.000000e+00   3.200000e+01  \n",
       "50%     1.000000e+00   2.000000e+00   1.000000e+00   6.500000e+01  \n",
       "75%     1.000000e+00   2.000000e+00   1.000000e+00   9.400000e+01  \n",
       "max     1.000000e+00   4.000000e+00   2.000000e+00   1.040000e+02  "
      ]
     },
     "execution_count": 5,
     "metadata": {},
     "output_type": "execute_result"
    }
   ],
   "source": [
    "train=pd.read_csv('train.csv')\n",
    "test=pd.read_csv('test.csv')\n",
    "porto_instance=ObjectOrientedPorto(train,test)\n",
    "porto_instance.describe_data('nominal')"
   ]
  },
  {
   "cell_type": "code",
   "execution_count": 6,
   "metadata": {},
   "outputs": [
    {
     "name": "stdout",
     "output_type": "stream",
     "text": [
      "interval Variable\n",
      "=======================\n"
     ]
    },
    {
     "data": {
      "text/html": [
       "<div>\n",
       "<style scoped>\n",
       "    .dataframe tbody tr th:only-of-type {\n",
       "        vertical-align: middle;\n",
       "    }\n",
       "\n",
       "    .dataframe tbody tr th {\n",
       "        vertical-align: top;\n",
       "    }\n",
       "\n",
       "    .dataframe thead th {\n",
       "        text-align: right;\n",
       "    }\n",
       "</style>\n",
       "<table border=\"1\" class=\"dataframe\">\n",
       "  <thead>\n",
       "    <tr style=\"text-align: right;\">\n",
       "      <th></th>\n",
       "      <th>ps_reg_01</th>\n",
       "      <th>ps_reg_02</th>\n",
       "      <th>ps_reg_03</th>\n",
       "      <th>ps_car_12</th>\n",
       "      <th>ps_car_13</th>\n",
       "      <th>ps_car_14</th>\n",
       "      <th>ps_car_15</th>\n",
       "      <th>ps_calc_01</th>\n",
       "      <th>ps_calc_02</th>\n",
       "      <th>ps_calc_03</th>\n",
       "    </tr>\n",
       "  </thead>\n",
       "  <tbody>\n",
       "    <tr>\n",
       "      <th>count</th>\n",
       "      <td>1.488028e+06</td>\n",
       "      <td>1.488028e+06</td>\n",
       "      <td>1.488028e+06</td>\n",
       "      <td>1.488028e+06</td>\n",
       "      <td>1.488028e+06</td>\n",
       "      <td>1.488028e+06</td>\n",
       "      <td>1.488028e+06</td>\n",
       "      <td>1.488028e+06</td>\n",
       "      <td>1.488028e+06</td>\n",
       "      <td>1.488028e+06</td>\n",
       "    </tr>\n",
       "    <tr>\n",
       "      <th>mean</th>\n",
       "      <td>6.110305e-01</td>\n",
       "      <td>4.395943e-01</td>\n",
       "      <td>5.514848e-01</td>\n",
       "      <td>3.799519e-01</td>\n",
       "      <td>8.134878e-01</td>\n",
       "      <td>2.763614e-01</td>\n",
       "      <td>3.067355e+00</td>\n",
       "      <td>4.496817e-01</td>\n",
       "      <td>4.501073e-01</td>\n",
       "      <td>4.499718e-01</td>\n",
       "    </tr>\n",
       "    <tr>\n",
       "      <th>std</th>\n",
       "      <td>2.876763e-01</td>\n",
       "      <td>4.045123e-01</td>\n",
       "      <td>7.938159e-01</td>\n",
       "      <td>5.836187e-02</td>\n",
       "      <td>2.247024e-01</td>\n",
       "      <td>3.569623e-01</td>\n",
       "      <td>7.299510e-01</td>\n",
       "      <td>2.872071e-01</td>\n",
       "      <td>2.871817e-01</td>\n",
       "      <td>2.872136e-01</td>\n",
       "    </tr>\n",
       "    <tr>\n",
       "      <th>min</th>\n",
       "      <td>0.000000e+00</td>\n",
       "      <td>0.000000e+00</td>\n",
       "      <td>-1.000000e+00</td>\n",
       "      <td>-1.000000e+00</td>\n",
       "      <td>2.506191e-01</td>\n",
       "      <td>-1.000000e+00</td>\n",
       "      <td>0.000000e+00</td>\n",
       "      <td>0.000000e+00</td>\n",
       "      <td>0.000000e+00</td>\n",
       "      <td>0.000000e+00</td>\n",
       "    </tr>\n",
       "    <tr>\n",
       "      <th>25%</th>\n",
       "      <td>4.000000e-01</td>\n",
       "      <td>2.000000e-01</td>\n",
       "      <td>5.250000e-01</td>\n",
       "      <td>3.162278e-01</td>\n",
       "      <td>6.710052e-01</td>\n",
       "      <td>3.339162e-01</td>\n",
       "      <td>2.828427e+00</td>\n",
       "      <td>2.000000e-01</td>\n",
       "      <td>2.000000e-01</td>\n",
       "      <td>2.000000e-01</td>\n",
       "    </tr>\n",
       "    <tr>\n",
       "      <th>50%</th>\n",
       "      <td>7.000000e-01</td>\n",
       "      <td>3.000000e-01</td>\n",
       "      <td>7.211103e-01</td>\n",
       "      <td>3.741657e-01</td>\n",
       "      <td>7.660406e-01</td>\n",
       "      <td>3.687818e-01</td>\n",
       "      <td>3.316625e+00</td>\n",
       "      <td>4.000000e-01</td>\n",
       "      <td>5.000000e-01</td>\n",
       "      <td>5.000000e-01</td>\n",
       "    </tr>\n",
       "    <tr>\n",
       "      <th>75%</th>\n",
       "      <td>9.000000e-01</td>\n",
       "      <td>6.000000e-01</td>\n",
       "      <td>1.001561e+00</td>\n",
       "      <td>4.000000e-01</td>\n",
       "      <td>9.061429e-01</td>\n",
       "      <td>3.964846e-01</td>\n",
       "      <td>3.605551e+00</td>\n",
       "      <td>7.000000e-01</td>\n",
       "      <td>7.000000e-01</td>\n",
       "      <td>7.000000e-01</td>\n",
       "    </tr>\n",
       "    <tr>\n",
       "      <th>max</th>\n",
       "      <td>9.000000e-01</td>\n",
       "      <td>1.800000e+00</td>\n",
       "      <td>4.423517e+00</td>\n",
       "      <td>1.264911e+00</td>\n",
       "      <td>4.031301e+00</td>\n",
       "      <td>6.363961e-01</td>\n",
       "      <td>3.741657e+00</td>\n",
       "      <td>9.000000e-01</td>\n",
       "      <td>9.000000e-01</td>\n",
       "      <td>9.000000e-01</td>\n",
       "    </tr>\n",
       "  </tbody>\n",
       "</table>\n",
       "</div>"
      ],
      "text/plain": [
       "          ps_reg_01     ps_reg_02     ps_reg_03     ps_car_12     ps_car_13  \\\n",
       "count  1.488028e+06  1.488028e+06  1.488028e+06  1.488028e+06  1.488028e+06   \n",
       "mean   6.110305e-01  4.395943e-01  5.514848e-01  3.799519e-01  8.134878e-01   \n",
       "std    2.876763e-01  4.045123e-01  7.938159e-01  5.836187e-02  2.247024e-01   \n",
       "min    0.000000e+00  0.000000e+00 -1.000000e+00 -1.000000e+00  2.506191e-01   \n",
       "25%    4.000000e-01  2.000000e-01  5.250000e-01  3.162278e-01  6.710052e-01   \n",
       "50%    7.000000e-01  3.000000e-01  7.211103e-01  3.741657e-01  7.660406e-01   \n",
       "75%    9.000000e-01  6.000000e-01  1.001561e+00  4.000000e-01  9.061429e-01   \n",
       "max    9.000000e-01  1.800000e+00  4.423517e+00  1.264911e+00  4.031301e+00   \n",
       "\n",
       "          ps_car_14     ps_car_15    ps_calc_01    ps_calc_02    ps_calc_03  \n",
       "count  1.488028e+06  1.488028e+06  1.488028e+06  1.488028e+06  1.488028e+06  \n",
       "mean   2.763614e-01  3.067355e+00  4.496817e-01  4.501073e-01  4.499718e-01  \n",
       "std    3.569623e-01  7.299510e-01  2.872071e-01  2.871817e-01  2.872136e-01  \n",
       "min   -1.000000e+00  0.000000e+00  0.000000e+00  0.000000e+00  0.000000e+00  \n",
       "25%    3.339162e-01  2.828427e+00  2.000000e-01  2.000000e-01  2.000000e-01  \n",
       "50%    3.687818e-01  3.316625e+00  4.000000e-01  5.000000e-01  5.000000e-01  \n",
       "75%    3.964846e-01  3.605551e+00  7.000000e-01  7.000000e-01  7.000000e-01  \n",
       "max    6.363961e-01  3.741657e+00  9.000000e-01  9.000000e-01  9.000000e-01  "
      ]
     },
     "execution_count": 6,
     "metadata": {},
     "output_type": "execute_result"
    }
   ],
   "source": [
    "porto_instance.describe_data('interval')"
   ]
  },
  {
   "cell_type": "code",
   "execution_count": 7,
   "metadata": {},
   "outputs": [
    {
     "name": "stdout",
     "output_type": "stream",
     "text": [
      "binary Variable\n",
      "=======================\n"
     ]
    },
    {
     "data": {
      "text/html": [
       "<div>\n",
       "<style scoped>\n",
       "    .dataframe tbody tr th:only-of-type {\n",
       "        vertical-align: middle;\n",
       "    }\n",
       "\n",
       "    .dataframe tbody tr th {\n",
       "        vertical-align: top;\n",
       "    }\n",
       "\n",
       "    .dataframe thead th {\n",
       "        text-align: right;\n",
       "    }\n",
       "</style>\n",
       "<table border=\"1\" class=\"dataframe\">\n",
       "  <thead>\n",
       "    <tr style=\"text-align: right;\">\n",
       "      <th></th>\n",
       "      <th>ps_ind_06_bin</th>\n",
       "      <th>ps_ind_07_bin</th>\n",
       "      <th>ps_ind_08_bin</th>\n",
       "      <th>ps_ind_09_bin</th>\n",
       "      <th>ps_ind_10_bin</th>\n",
       "      <th>ps_ind_11_bin</th>\n",
       "      <th>ps_ind_12_bin</th>\n",
       "      <th>ps_ind_13_bin</th>\n",
       "      <th>ps_ind_16_bin</th>\n",
       "      <th>ps_ind_17_bin</th>\n",
       "      <th>ps_ind_18_bin</th>\n",
       "      <th>ps_calc_15_bin</th>\n",
       "      <th>ps_calc_16_bin</th>\n",
       "      <th>ps_calc_17_bin</th>\n",
       "      <th>ps_calc_18_bin</th>\n",
       "      <th>ps_calc_19_bin</th>\n",
       "      <th>ps_calc_20_bin</th>\n",
       "    </tr>\n",
       "  </thead>\n",
       "  <tbody>\n",
       "    <tr>\n",
       "      <th>count</th>\n",
       "      <td>1.488028e+06</td>\n",
       "      <td>1.488028e+06</td>\n",
       "      <td>1.488028e+06</td>\n",
       "      <td>1.488028e+06</td>\n",
       "      <td>1.488028e+06</td>\n",
       "      <td>1.488028e+06</td>\n",
       "      <td>1.488028e+06</td>\n",
       "      <td>1.488028e+06</td>\n",
       "      <td>1.488028e+06</td>\n",
       "      <td>1.488028e+06</td>\n",
       "      <td>1.488028e+06</td>\n",
       "      <td>1.488028e+06</td>\n",
       "      <td>1.488028e+06</td>\n",
       "      <td>1.488028e+06</td>\n",
       "      <td>1.488028e+06</td>\n",
       "      <td>1.488028e+06</td>\n",
       "      <td>1.488028e+06</td>\n",
       "    </tr>\n",
       "    <tr>\n",
       "      <th>mean</th>\n",
       "      <td>3.934442e-01</td>\n",
       "      <td>2.571276e-01</td>\n",
       "      <td>1.637637e-01</td>\n",
       "      <td>1.856645e-01</td>\n",
       "      <td>3.729769e-04</td>\n",
       "      <td>1.633706e-03</td>\n",
       "      <td>9.401033e-03</td>\n",
       "      <td>1.002669e-03</td>\n",
       "      <td>6.606838e-01</td>\n",
       "      <td>1.206718e-01</td>\n",
       "      <td>1.543620e-01</td>\n",
       "      <td>1.232027e-01</td>\n",
       "      <td>6.277899e-01</td>\n",
       "      <td>5.544687e-01</td>\n",
       "      <td>2.875504e-01</td>\n",
       "      <td>3.492159e-01</td>\n",
       "      <td>1.527841e-01</td>\n",
       "    </tr>\n",
       "    <tr>\n",
       "      <th>std</th>\n",
       "      <td>4.885141e-01</td>\n",
       "      <td>4.370505e-01</td>\n",
       "      <td>3.700612e-01</td>\n",
       "      <td>3.888358e-01</td>\n",
       "      <td>1.930901e-02</td>\n",
       "      <td>4.038611e-02</td>\n",
       "      <td>9.650212e-02</td>\n",
       "      <td>3.164909e-02</td>\n",
       "      <td>4.734774e-01</td>\n",
       "      <td>3.257456e-01</td>\n",
       "      <td>3.612955e-01</td>\n",
       "      <td>3.286698e-01</td>\n",
       "      <td>4.833941e-01</td>\n",
       "      <td>4.970245e-01</td>\n",
       "      <td>4.526205e-01</td>\n",
       "      <td>4.767225e-01</td>\n",
       "      <td>3.597794e-01</td>\n",
       "    </tr>\n",
       "    <tr>\n",
       "      <th>min</th>\n",
       "      <td>0.000000e+00</td>\n",
       "      <td>0.000000e+00</td>\n",
       "      <td>0.000000e+00</td>\n",
       "      <td>0.000000e+00</td>\n",
       "      <td>0.000000e+00</td>\n",
       "      <td>0.000000e+00</td>\n",
       "      <td>0.000000e+00</td>\n",
       "      <td>0.000000e+00</td>\n",
       "      <td>0.000000e+00</td>\n",
       "      <td>0.000000e+00</td>\n",
       "      <td>0.000000e+00</td>\n",
       "      <td>0.000000e+00</td>\n",
       "      <td>0.000000e+00</td>\n",
       "      <td>0.000000e+00</td>\n",
       "      <td>0.000000e+00</td>\n",
       "      <td>0.000000e+00</td>\n",
       "      <td>0.000000e+00</td>\n",
       "    </tr>\n",
       "    <tr>\n",
       "      <th>25%</th>\n",
       "      <td>0.000000e+00</td>\n",
       "      <td>0.000000e+00</td>\n",
       "      <td>0.000000e+00</td>\n",
       "      <td>0.000000e+00</td>\n",
       "      <td>0.000000e+00</td>\n",
       "      <td>0.000000e+00</td>\n",
       "      <td>0.000000e+00</td>\n",
       "      <td>0.000000e+00</td>\n",
       "      <td>0.000000e+00</td>\n",
       "      <td>0.000000e+00</td>\n",
       "      <td>0.000000e+00</td>\n",
       "      <td>0.000000e+00</td>\n",
       "      <td>0.000000e+00</td>\n",
       "      <td>0.000000e+00</td>\n",
       "      <td>0.000000e+00</td>\n",
       "      <td>0.000000e+00</td>\n",
       "      <td>0.000000e+00</td>\n",
       "    </tr>\n",
       "    <tr>\n",
       "      <th>50%</th>\n",
       "      <td>0.000000e+00</td>\n",
       "      <td>0.000000e+00</td>\n",
       "      <td>0.000000e+00</td>\n",
       "      <td>0.000000e+00</td>\n",
       "      <td>0.000000e+00</td>\n",
       "      <td>0.000000e+00</td>\n",
       "      <td>0.000000e+00</td>\n",
       "      <td>0.000000e+00</td>\n",
       "      <td>1.000000e+00</td>\n",
       "      <td>0.000000e+00</td>\n",
       "      <td>0.000000e+00</td>\n",
       "      <td>0.000000e+00</td>\n",
       "      <td>1.000000e+00</td>\n",
       "      <td>1.000000e+00</td>\n",
       "      <td>0.000000e+00</td>\n",
       "      <td>0.000000e+00</td>\n",
       "      <td>0.000000e+00</td>\n",
       "    </tr>\n",
       "    <tr>\n",
       "      <th>75%</th>\n",
       "      <td>1.000000e+00</td>\n",
       "      <td>1.000000e+00</td>\n",
       "      <td>0.000000e+00</td>\n",
       "      <td>0.000000e+00</td>\n",
       "      <td>0.000000e+00</td>\n",
       "      <td>0.000000e+00</td>\n",
       "      <td>0.000000e+00</td>\n",
       "      <td>0.000000e+00</td>\n",
       "      <td>1.000000e+00</td>\n",
       "      <td>0.000000e+00</td>\n",
       "      <td>0.000000e+00</td>\n",
       "      <td>0.000000e+00</td>\n",
       "      <td>1.000000e+00</td>\n",
       "      <td>1.000000e+00</td>\n",
       "      <td>1.000000e+00</td>\n",
       "      <td>1.000000e+00</td>\n",
       "      <td>0.000000e+00</td>\n",
       "    </tr>\n",
       "    <tr>\n",
       "      <th>max</th>\n",
       "      <td>1.000000e+00</td>\n",
       "      <td>1.000000e+00</td>\n",
       "      <td>1.000000e+00</td>\n",
       "      <td>1.000000e+00</td>\n",
       "      <td>1.000000e+00</td>\n",
       "      <td>1.000000e+00</td>\n",
       "      <td>1.000000e+00</td>\n",
       "      <td>1.000000e+00</td>\n",
       "      <td>1.000000e+00</td>\n",
       "      <td>1.000000e+00</td>\n",
       "      <td>1.000000e+00</td>\n",
       "      <td>1.000000e+00</td>\n",
       "      <td>1.000000e+00</td>\n",
       "      <td>1.000000e+00</td>\n",
       "      <td>1.000000e+00</td>\n",
       "      <td>1.000000e+00</td>\n",
       "      <td>1.000000e+00</td>\n",
       "    </tr>\n",
       "  </tbody>\n",
       "</table>\n",
       "</div>"
      ],
      "text/plain": [
       "       ps_ind_06_bin  ps_ind_07_bin  ps_ind_08_bin  ps_ind_09_bin  \\\n",
       "count   1.488028e+06   1.488028e+06   1.488028e+06   1.488028e+06   \n",
       "mean    3.934442e-01   2.571276e-01   1.637637e-01   1.856645e-01   \n",
       "std     4.885141e-01   4.370505e-01   3.700612e-01   3.888358e-01   \n",
       "min     0.000000e+00   0.000000e+00   0.000000e+00   0.000000e+00   \n",
       "25%     0.000000e+00   0.000000e+00   0.000000e+00   0.000000e+00   \n",
       "50%     0.000000e+00   0.000000e+00   0.000000e+00   0.000000e+00   \n",
       "75%     1.000000e+00   1.000000e+00   0.000000e+00   0.000000e+00   \n",
       "max     1.000000e+00   1.000000e+00   1.000000e+00   1.000000e+00   \n",
       "\n",
       "       ps_ind_10_bin  ps_ind_11_bin  ps_ind_12_bin  ps_ind_13_bin  \\\n",
       "count   1.488028e+06   1.488028e+06   1.488028e+06   1.488028e+06   \n",
       "mean    3.729769e-04   1.633706e-03   9.401033e-03   1.002669e-03   \n",
       "std     1.930901e-02   4.038611e-02   9.650212e-02   3.164909e-02   \n",
       "min     0.000000e+00   0.000000e+00   0.000000e+00   0.000000e+00   \n",
       "25%     0.000000e+00   0.000000e+00   0.000000e+00   0.000000e+00   \n",
       "50%     0.000000e+00   0.000000e+00   0.000000e+00   0.000000e+00   \n",
       "75%     0.000000e+00   0.000000e+00   0.000000e+00   0.000000e+00   \n",
       "max     1.000000e+00   1.000000e+00   1.000000e+00   1.000000e+00   \n",
       "\n",
       "       ps_ind_16_bin  ps_ind_17_bin  ps_ind_18_bin  ps_calc_15_bin  \\\n",
       "count   1.488028e+06   1.488028e+06   1.488028e+06    1.488028e+06   \n",
       "mean    6.606838e-01   1.206718e-01   1.543620e-01    1.232027e-01   \n",
       "std     4.734774e-01   3.257456e-01   3.612955e-01    3.286698e-01   \n",
       "min     0.000000e+00   0.000000e+00   0.000000e+00    0.000000e+00   \n",
       "25%     0.000000e+00   0.000000e+00   0.000000e+00    0.000000e+00   \n",
       "50%     1.000000e+00   0.000000e+00   0.000000e+00    0.000000e+00   \n",
       "75%     1.000000e+00   0.000000e+00   0.000000e+00    0.000000e+00   \n",
       "max     1.000000e+00   1.000000e+00   1.000000e+00    1.000000e+00   \n",
       "\n",
       "       ps_calc_16_bin  ps_calc_17_bin  ps_calc_18_bin  ps_calc_19_bin  \\\n",
       "count    1.488028e+06    1.488028e+06    1.488028e+06    1.488028e+06   \n",
       "mean     6.277899e-01    5.544687e-01    2.875504e-01    3.492159e-01   \n",
       "std      4.833941e-01    4.970245e-01    4.526205e-01    4.767225e-01   \n",
       "min      0.000000e+00    0.000000e+00    0.000000e+00    0.000000e+00   \n",
       "25%      0.000000e+00    0.000000e+00    0.000000e+00    0.000000e+00   \n",
       "50%      1.000000e+00    1.000000e+00    0.000000e+00    0.000000e+00   \n",
       "75%      1.000000e+00    1.000000e+00    1.000000e+00    1.000000e+00   \n",
       "max      1.000000e+00    1.000000e+00    1.000000e+00    1.000000e+00   \n",
       "\n",
       "       ps_calc_20_bin  \n",
       "count    1.488028e+06  \n",
       "mean     1.527841e-01  \n",
       "std      3.597794e-01  \n",
       "min      0.000000e+00  \n",
       "25%      0.000000e+00  \n",
       "50%      0.000000e+00  \n",
       "75%      0.000000e+00  \n",
       "max      1.000000e+00  "
      ]
     },
     "execution_count": 7,
     "metadata": {},
     "output_type": "execute_result"
    }
   ],
   "source": [
    "porto_instance.describe_data('binary')"
   ]
  },
  {
   "cell_type": "code",
   "execution_count": 8,
   "metadata": {},
   "outputs": [
    {
     "data": {
      "text/html": [
       "<div>\n",
       "<style scoped>\n",
       "    .dataframe tbody tr th:only-of-type {\n",
       "        vertical-align: middle;\n",
       "    }\n",
       "\n",
       "    .dataframe tbody tr th {\n",
       "        vertical-align: top;\n",
       "    }\n",
       "\n",
       "    .dataframe thead th {\n",
       "        text-align: right;\n",
       "    }\n",
       "</style>\n",
       "<table border=\"1\" class=\"dataframe\">\n",
       "  <thead>\n",
       "    <tr style=\"text-align: right;\">\n",
       "      <th></th>\n",
       "      <th>level</th>\n",
       "      <th>role</th>\n",
       "      <th>keep</th>\n",
       "      <th>dtype</th>\n",
       "      <th>Missing_Count</th>\n",
       "      <th>Missing_Percent</th>\n",
       "    </tr>\n",
       "  </thead>\n",
       "  <tbody>\n",
       "    <tr>\n",
       "      <th>id</th>\n",
       "      <td>nominal</td>\n",
       "      <td>id</td>\n",
       "      <td>False</td>\n",
       "      <td>int64</td>\n",
       "      <td>0</td>\n",
       "      <td>0.00</td>\n",
       "    </tr>\n",
       "    <tr>\n",
       "      <th>ps_ind_01</th>\n",
       "      <td>ordinal</td>\n",
       "      <td>input</td>\n",
       "      <td>True</td>\n",
       "      <td>int64</td>\n",
       "      <td>0</td>\n",
       "      <td>0.00</td>\n",
       "    </tr>\n",
       "    <tr>\n",
       "      <th>ps_ind_02_cat</th>\n",
       "      <td>nominal</td>\n",
       "      <td>input</td>\n",
       "      <td>True</td>\n",
       "      <td>int64</td>\n",
       "      <td>523</td>\n",
       "      <td>0.04</td>\n",
       "    </tr>\n",
       "    <tr>\n",
       "      <th>ps_ind_03</th>\n",
       "      <td>ordinal</td>\n",
       "      <td>input</td>\n",
       "      <td>True</td>\n",
       "      <td>int64</td>\n",
       "      <td>0</td>\n",
       "      <td>0.00</td>\n",
       "    </tr>\n",
       "    <tr>\n",
       "      <th>ps_ind_04_cat</th>\n",
       "      <td>nominal</td>\n",
       "      <td>input</td>\n",
       "      <td>True</td>\n",
       "      <td>int64</td>\n",
       "      <td>228</td>\n",
       "      <td>0.02</td>\n",
       "    </tr>\n",
       "  </tbody>\n",
       "</table>\n",
       "</div>"
      ],
      "text/plain": [
       "                 level   role   keep  dtype  Missing_Count  Missing_Percent\n",
       "id             nominal     id  False  int64              0             0.00\n",
       "ps_ind_01      ordinal  input   True  int64              0             0.00\n",
       "ps_ind_02_cat  nominal  input   True  int64            523             0.04\n",
       "ps_ind_03      ordinal  input   True  int64              0             0.00\n",
       "ps_ind_04_cat  nominal  input   True  int64            228             0.02"
      ]
     },
     "execution_count": 8,
     "metadata": {},
     "output_type": "execute_result"
    }
   ],
   "source": [
    "all_data=porto_instance.all_data\n",
    "info=porto_instance._info\n",
    "info.head()"
   ]
  },
  {
   "cell_type": "code",
   "execution_count": 9,
   "metadata": {},
   "outputs": [
    {
     "name": "stdout",
     "output_type": "stream",
     "text": [
      "Preprocess Object Created\n",
      "Object Oriented Porto Object Created\n",
      "variable ps_ind_02_cat has 5 distinct levels\n",
      "variable ps_ind_04_cat has 3 distinct levels\n",
      "variable ps_ind_05_cat has 8 distinct levels\n",
      "variable ps_car_01_cat has 13 distinct levels\n",
      "variable ps_car_02_cat has 3 distinct levels\n",
      "variable ps_car_04_cat has 10 distinct levels\n",
      "variable ps_car_06_cat has 18 distinct levels\n",
      "variable ps_car_07_cat has 3 distinct levels\n",
      "variable ps_car_08_cat has 2 distinct levels\n",
      "variable ps_car_09_cat has 6 distinct levels\n",
      "variable ps_car_10_cat has 3 distinct levels\n",
      "variable ps_car_11_cat has 104 distinct levels\n"
     ]
    }
   ],
   "source": [
    "#Data Preprocess\n",
    "preprocess_instance=Preprocess(train,test)\n",
    "preprocess_instance.check_cardinality()"
   ]
  },
  {
   "cell_type": "code",
   "execution_count": 10,
   "metadata": {},
   "outputs": [],
   "source": [
    "data_preprocess_cardinality,meta_data=preprocess_instance.fix_cardinality('ps_car_11_cat')"
   ]
  },
  {
   "cell_type": "code",
   "execution_count": 11,
   "metadata": {},
   "outputs": [
    {
     "data": {
      "text/html": [
       "<div>\n",
       "<style scoped>\n",
       "    .dataframe tbody tr th:only-of-type {\n",
       "        vertical-align: middle;\n",
       "    }\n",
       "\n",
       "    .dataframe tbody tr th {\n",
       "        vertical-align: top;\n",
       "    }\n",
       "\n",
       "    .dataframe thead th {\n",
       "        text-align: right;\n",
       "    }\n",
       "</style>\n",
       "<table border=\"1\" class=\"dataframe\">\n",
       "  <thead>\n",
       "    <tr style=\"text-align: right;\">\n",
       "      <th></th>\n",
       "      <th>level</th>\n",
       "      <th>role</th>\n",
       "      <th>keep</th>\n",
       "      <th>dtype</th>\n",
       "      <th>Missing_Count</th>\n",
       "      <th>Missing_Percent</th>\n",
       "    </tr>\n",
       "  </thead>\n",
       "  <tbody>\n",
       "    <tr>\n",
       "      <th>id</th>\n",
       "      <td>nominal</td>\n",
       "      <td>id</td>\n",
       "      <td>False</td>\n",
       "      <td>int64</td>\n",
       "      <td>0</td>\n",
       "      <td>0.00</td>\n",
       "    </tr>\n",
       "    <tr>\n",
       "      <th>ps_ind_01</th>\n",
       "      <td>ordinal</td>\n",
       "      <td>input</td>\n",
       "      <td>True</td>\n",
       "      <td>int64</td>\n",
       "      <td>0</td>\n",
       "      <td>0.00</td>\n",
       "    </tr>\n",
       "    <tr>\n",
       "      <th>ps_ind_02_cat</th>\n",
       "      <td>nominal</td>\n",
       "      <td>input</td>\n",
       "      <td>True</td>\n",
       "      <td>int64</td>\n",
       "      <td>523</td>\n",
       "      <td>0.04</td>\n",
       "    </tr>\n",
       "    <tr>\n",
       "      <th>ps_ind_03</th>\n",
       "      <td>ordinal</td>\n",
       "      <td>input</td>\n",
       "      <td>True</td>\n",
       "      <td>int64</td>\n",
       "      <td>0</td>\n",
       "      <td>0.00</td>\n",
       "    </tr>\n",
       "    <tr>\n",
       "      <th>ps_ind_04_cat</th>\n",
       "      <td>nominal</td>\n",
       "      <td>input</td>\n",
       "      <td>True</td>\n",
       "      <td>int64</td>\n",
       "      <td>228</td>\n",
       "      <td>0.02</td>\n",
       "    </tr>\n",
       "  </tbody>\n",
       "</table>\n",
       "</div>"
      ],
      "text/plain": [
       "                 level   role   keep  dtype  Missing_Count  Missing_Percent\n",
       "id             nominal     id  False  int64              0             0.00\n",
       "ps_ind_01      ordinal  input   True  int64              0             0.00\n",
       "ps_ind_02_cat  nominal  input   True  int64            523             0.04\n",
       "ps_ind_03      ordinal  input   True  int64              0             0.00\n",
       "ps_ind_04_cat  nominal  input   True  int64            228             0.02"
      ]
     },
     "execution_count": 11,
     "metadata": {},
     "output_type": "execute_result"
    }
   ],
   "source": [
    "meta_data.head()"
   ]
  },
  {
   "cell_type": "code",
   "execution_count": 12,
   "metadata": {},
   "outputs": [],
   "source": [
    "class Visualize:\n",
    "    \n",
    "    def __init__(self,data,meta_data):\n",
    "        self.data=data\n",
    "        self.meta_data=meta_data\n",
    "        \n",
    "        \n",
    "    def barplots(self):\n",
    "        \"\"\"\n",
    "        plots for each level of a nominal variable wrt the target variable \n",
    "        \"\"\"\n",
    "        nominal_vars=self.meta_data[(self.meta_data.level=='nominal') & (self.meta_data.keep==True)].index\n",
    "        train=pd.concat([self.data['X_train'],self.data['y_train']],axis=1)\n",
    "        for f in nominal_vars:\n",
    "            plt.figure()\n",
    "            fig, ax = plt.subplots(figsize=(5,3))\n",
    "            # Calculate the percentage of target=1 per category value\n",
    "            cat_perc = train[[f, 'target']].groupby([f],as_index=False).mean()\n",
    "            cat_perc.sort_values(by='target', ascending=False, inplace=True)\n",
    "            # Bar plot\n",
    "            # Order the bars descending on target mean\n",
    "            sns.barplot(ax=ax, x=f, y='target', data=cat_perc, order=cat_perc[f])\n",
    "            plt.ylabel('% target', fontsize=18)\n",
    "            plt.xlabel(f, fontsize=18)\n",
    "            plt.tick_params(axis='both', which='major', labelsize=18)\n",
    "            plt.show();\n",
    "            \n",
    "            \n",
    "    def corplots(self,var):\n",
    "        \"\"\"\n",
    "        plots for interval variables / ordinal variables \n",
    "        \"\"\"\n",
    "        interval_vars=self.meta_data[(self.meta_data.level=='interval') & (self.meta_data.keep==True)].index\n",
    "        ordinal_vars=self.meta_data[(self.meta_data.level=='ordinal') & (self.meta_data.keep==True)].index\n",
    "        \n",
    "        if var=='interval':\n",
    "            var=interval_vars\n",
    "        else:\n",
    "            var=ordinal_vars\n",
    "            \n",
    "        data=self.data['X_train']\n",
    "        \n",
    "        plt.subplots(figsize=(10,7))\n",
    "        cmap = sns.diverging_palette(220, 10, as_cmap=True)\n",
    "        sns.heatmap(train[var].corr(),annot=True,fmt='.2f',cmap=cmap);"
   ]
  },
  {
   "cell_type": "code",
   "execution_count": 13,
   "metadata": {},
   "outputs": [],
   "source": [
    "viz=Visualize(data_preprocess_cardinality,meta_data)"
   ]
  },
  {
   "cell_type": "code",
   "execution_count": 14,
   "metadata": {},
   "outputs": [
    {
     "data": {
      "text/plain": [
       "<Figure size 432x288 with 0 Axes>"
      ]
     },
     "metadata": {},
     "output_type": "display_data"
    },
    {
     "data": {
      "image/png": "[encoded data removed]",
      "text/plain": [
       "<Figure size 360x216 with 1 Axes>"
      ]
     },
     "metadata": {},
     "output_type": "display_data"
    },
    {
     "data": {
      "text/plain": [
       "<Figure size 432x288 with 0 Axes>"
      ]
     },
     "metadata": {},
     "output_type": "display_data"
    },
    {
     "data": {
      "image/png": "[encoded data removed]",
      "text/plain": [
       "<Figure size 360x216 with 1 Axes>"
      ]
     },
     "metadata": {},
     "output_type": "display_data"
    },
    {
     "data": {
      "text/plain": [
       "<Figure size 432x288 with 0 Axes>"
      ]
     },
     "metadata": {},
     "output_type": "display_data"
    },
    {
     "data": {
      "image/png": "[encoded data removed]",
      "text/plain": [
       "<Figure size 360x216 with 1 Axes>"
      ]
     },
     "metadata": {},
     "output_type": "display_data"
    },
    {
     "data": {
      "text/plain": [
       "<Figure size 432x288 with 0 Axes>"
      ]
     },
     "metadata": {},
     "output_type": "display_data"
    },
    {
     "data": {
      "image/png": "[encoded data removed]",
      "text/plain": [
       "<Figure size 360x216 with 1 Axes>"
      ]
     },
     "metadata": {},
     "output_type": "display_data"
    },
    {
     "data": {
      "text/plain": [
       "<Figure size 432x288 with 0 Axes>"
      ]
     },
     "metadata": {},
     "output_type": "display_data"
    },
    {
     "data": {
      "image/png": "[encoded data removed]",
      "text/plain": [
       "<Figure size 360x216 with 1 Axes>"
      ]
     },
     "metadata": {},
     "output_type": "display_data"
    },
    {
     "data": {
      "text/plain": [
       "<Figure size 432x288 with 0 Axes>"
      ]
     },
     "metadata": {},
     "output_type": "display_data"
    },
    {
     "data": {
      "image/png": "[encoded data removed]",
      "text/plain": [
       "<Figure size 360x216 with 1 Axes>"
      ]
     },
     "metadata": {},
     "output_type": "display_data"
    },
    {
     "data": {
      "text/plain": [
       "<Figure size 432x288 with 0 Axes>"
      ]
     },
     "metadata": {},
     "output_type": "display_data"
    },
    {
     "data": {
      "image/png": "[encoded data removed]",
      "text/plain": [
       "<Figure size 360x216 with 1 Axes>"
      ]
     },
     "metadata": {},
     "output_type": "display_data"
    },
    {
     "data": {
      "text/plain": [
       "<Figure size 432x288 with 0 Axes>"
      ]
     },
     "metadata": {},
     "output_type": "display_data"
    },
    {
     "data": {
      "image/png": "[encoded data removed]",
      "text/plain": [
       "<Figure size 360x216 with 1 Axes>"
      ]
     },
     "metadata": {},
     "output_type": "display_data"
    },
    {
     "data": {
      "text/plain": [
       "<Figure size 432x288 with 0 Axes>"
      ]
     },
     "metadata": {},
     "output_type": "display_data"
    },
    {
     "data": {
      "image/png": "[encoded data removed]",
      "text/plain": [
       "<Figure size 360x216 with 1 Axes>"
      ]
     },
     "metadata": {},
     "output_type": "display_data"
    },
    {
     "data": {
      "text/plain": [
       "<Figure size 432x288 with 0 Axes>"
      ]
     },
     "metadata": {},
     "output_type": "display_data"
    },
    {
     "data": {
      "image/png": "[encoded data removed]",
      "text/plain": [
       "<Figure size 360x216 with 1 Axes>"
      ]
     },
     "metadata": {},
     "output_type": "display_data"
    },
    {
     "data": {
      "text/plain": [
       "<Figure size 432x288 with 0 Axes>"
      ]
     },
     "metadata": {},
     "output_type": "display_data"
    },
    {
     "data": {
      "image/png": "[encoded data removed]",
      "text/plain": [
       "<Figure size 360x216 with 1 Axes>"
      ]
     },
     "metadata": {},
     "output_type": "display_data"
    }
   ],
   "source": [
    "viz.barplots() #nominal variables"
   ]
  },
  {
   "cell_type": "code",
   "execution_count": 15,
   "metadata": {},
   "outputs": [
    {
     "data": {
      "image/png": "[encoded data removed]",
      "text/plain": [
       "<Figure size 720x504 with 2 Axes>"
      ]
     },
     "metadata": {},
     "output_type": "display_data"
    }
   ],
   "source": [
    "viz.corplots('interval')"
   ]
  },
  {
   "cell_type": "code",
   "execution_count": 16,
   "metadata": {},
   "outputs": [
    {
     "data": {
      "image/png": "[encoded data removed]",
      "text/plain": [
       "<Figure size 720x504 with 2 Axes>"
      ]
     },
     "metadata": {},
     "output_type": "display_data"
    }
   ],
   "source": [
    "viz.corplots('ordinal')"
   ]
  },
  {
   "cell_type": "code",
   "execution_count": 17,
   "metadata": {},
   "outputs": [],
   "source": [
    "class feature_engineering:\n",
    "    def __init__(self,meta): \n",
    "        self.meta_data=meta\n",
    "    \n",
    "    def merge_data(self,data):\n",
    "        self.data=data\n",
    "        self.data['X_train']['data']='train'\n",
    "        self.data['X_train']['target']=data['y_train']\n",
    "        self.data['X_val']['data']='val'\n",
    "        self.data['X_val']['target']=data['y_val']\n",
    "        self.data['X_test']['data']='test'\n",
    "        self.data['X_test']['target']=-1\n",
    "        all_data=pd.concat([self.data['X_train'],self.data['X_val'],self.data['X_test']],axis=0)\n",
    "        all_data.reset_index(drop=True,inplace=True)\n",
    "        return all_data\n",
    "    \n",
    "        \n",
    "    def create_dummies(self,data):\n",
    "        data=self.merge_data(data)\n",
    "        nominal_variables= meta_data[(meta_data.level == 'nominal') & (meta_data.keep)].index\n",
    "        print('Before creating dummies- Total variables: {}'.format(data.shape[1]))\n",
    "        data=pd.get_dummies(data, columns=nominal_variables, drop_first=True)\n",
    "        print('After creating dummies- Total variables: {}'.format(data.shape[1]))\n",
    "        return data\n",
    "    \n",
    "    def interaction_vars(self,data_dummy,degree):\n",
    "        \"\"\"\n",
    "        interaction of all interval variables. Degree as input\n",
    "        \"\"\"\n",
    "        self.data=data_dummy\n",
    "        self.degree=degree\n",
    "        \n",
    "        interval_varaibles=meta_data[(meta_data.level == 'interval') & (meta_data.keep)].index\n",
    "        print('Before creating interactions we have {} variables'.format(self.data.shape[1]))\n",
    "        \n",
    "        higher_order=PolynomialFeatures(degree=self.degree,interaction_only=False,include_bias=False)\n",
    "        interactions=pd.DataFrame(data=higher_order.fit_transform(self.data[interval_varaibles]),\\\n",
    "                                  columns=higher_order.get_feature_names(interval_varaibles))\n",
    "        \n",
    "        #drop the original variables as interaction variables include the original variables too\n",
    "        interactions.drop(interval_varaibles,axis=1,inplace=True)\n",
    "        all_data_inter_vars = pd.concat([self.data, interactions], axis=1)\n",
    "        print('After creating interactions we have {} variables'.format(all_data_inter_vars.shape[1]))\n",
    "        return all_data_inter_vars"
   ]
  },
  {
   "cell_type": "code",
   "execution_count": 18,
   "metadata": {},
   "outputs": [
    {
     "name": "stdout",
     "output_type": "stream",
     "text": [
      "Before creating dummies- Total variables: 61\n",
      "After creating dummies- Total variables: 113\n"
     ]
    }
   ],
   "source": [
    "feature_eng_instance=feature_engineering(meta_data)\n",
    "dummy_df=feature_eng_instance.create_dummies(data_preprocess_cardinality)"
   ]
  },
  {
   "cell_type": "code",
   "execution_count": 20,
   "metadata": {},
   "outputs": [
    {
     "name": "stdout",
     "output_type": "stream",
     "text": [
      "Before creating interactions we have 113 variables\n",
      "After creating interactions we have 168 variables\n"
     ]
    }
   ],
   "source": [
    "df_interaction=feature_eng_instance.interaction_vars(dummy_df,2)"
   ]
  },
  {
   "cell_type": "code",
   "execution_count": 26,
   "metadata": {},
   "outputs": [],
   "source": [
    "del(dummy_df)"
   ]
  },
  {
   "cell_type": "code",
   "execution_count": 23,
   "metadata": {},
   "outputs": [],
   "source": [
    "class featureSelection:\n",
    "    \n",
    "    def __init__(self):\n",
    "        pass\n",
    "    \n",
    "    def var_threshold(self,data,value):\n",
    "        self.data=data\n",
    "        self.value=value\n",
    "        \n",
    "        selector = VarianceThreshold(threshold=self.value)\n",
    "        selector.fit(self.data.drop(['id','data', 'target'], axis=1))\n",
    "        f = np.vectorize(lambda x : not x)\n",
    "        v = self.data.drop(['id','data', 'target'], axis=1).columns[f(selector.get_support())]\n",
    "        print('{} variables have less than threshold variance.'.format(len(v)))\n",
    "        print('These variables are {}'.format(list(v)))\n",
    "        clean_data=self.data.drop(v,axis=1)\n",
    "        print('Final Clean variable count {}'.format(clean_data.shape[1]))\n",
    "        return clean_data\n",
    "    \n",
    "    def rf_var_importance(self):\n",
    "        pass"
   ]
  },
  {
   "cell_type": "code",
   "execution_count": 24,
   "metadata": {},
   "outputs": [
    {
     "name": "stdout",
     "output_type": "stream",
     "text": [
      "30 variables have less than threshold variance.\n",
      "These variables are ['ps_ind_10_bin', 'ps_ind_11_bin', 'ps_ind_12_bin', 'ps_ind_13_bin', 'ps_car_11', 'ps_car_12', 'ps_car_14', 'ps_car_11_cat_TE', 'ps_ind_05_cat_2', 'ps_ind_05_cat_5', 'ps_car_01_cat_0', 'ps_car_01_cat_1', 'ps_car_01_cat_2', 'ps_car_04_cat_3', 'ps_car_04_cat_4', 'ps_car_04_cat_5', 'ps_car_04_cat_6', 'ps_car_04_cat_7', 'ps_car_06_cat_2', 'ps_car_06_cat_5', 'ps_car_06_cat_8', 'ps_car_06_cat_12', 'ps_car_06_cat_16', 'ps_car_06_cat_17', 'ps_car_09_cat_4', 'ps_car_10_cat_1', 'ps_car_10_cat_2', 'ps_car_12^2', 'ps_car_12 ps_car_14', 'ps_car_14^2']\n",
      "Final Clean variables 138\n"
     ]
    }
   ],
   "source": [
    "fs_object=featureSelection()\n",
    "clean_data=fs_object.var_threshold(df_interaction,0.01)"
   ]
  },
  {
   "cell_type": "code",
   "execution_count": 27,
   "metadata": {},
   "outputs": [],
   "source": [
    "class ML_algos:\n",
    "    \"\"\"\n",
    "    Perform Grid Search and decide the best parameters on the val data. Use these best parameters\n",
    "    to create a final model to predict on test\n",
    "    \"\"\"\n",
    "    def __init__(self,data):\n",
    "        self.data=data\n",
    "        self.X_train=self.data[self.data['data']=='train'].drop(['data','target'],axis=1)\n",
    "        self.X_val=self.data[self.data['data']=='val'].drop(['data','target'],axis=1)\n",
    "        self.X_test=self.data[self.data['data']=='test'].drop(['data','target'],axis=1)\n",
    "        self.y_train=self.data[self.data['data']=='train']['target']\n",
    "        self.y_val=self.data[self.data['data']=='val']['target']\n",
    "        \n",
    "    def random_forest(self,params):\n",
    "        self.params=params\n",
    "        clf=RandomForestClassifier()\n",
    "        grid_search_clf = GridSearchCV(clf, self.params, cv=5,n_jobs=-1,scoring='f1')\n",
    "        grid_search_clf.fit(self.X_train,self.y_train)\n",
    "        print(grid_search_clf.best_estimator_)\n",
    "        val_pred=grid_search_clf.predict(self.X_val)\n",
    "        return val_pred\n",
    "        \n",
    "    \n",
    "    def xgb(self,params):\n",
    "        self.params=params\n",
    "        clf_xgb = XGBClassifier(objective = 'binary:logistic')\n",
    "        clf = GridSearchCV(clf_xgb, \\\n",
    "            param_grid = self.params,cv=3,#To do Statified k fold use-->StratifiedKFold(train['Column'],n_folds=5,shuffle=True)\n",
    "                early_stopping_rounds=1,scoring = 'roc_auc',verbose = 0, n_jobs = -1)\n",
    "        clf.fit(self.X_train,self.y_train)\n",
    "        print(clf.best_estimator_) #gives the best values of all paramters\n",
    "        print(clf.best_params_) #gives the best values of the paramters (only from the grid search)\n",
    "        print(clf.best_score_) #gives the best score on the objective of the classifier\n",
    "        # clf.cv_results_  gives results as a table\n",
    "        val_pred=clf.best_estimator_.predict_proba(self.X_val)\n",
    "        return (val_pred[:,1])"
   ]
  },
  {
   "cell_type": "code",
   "execution_count": 28,
   "metadata": {},
   "outputs": [],
   "source": [
    "ml=ML_algos(clean_data)"
   ]
  },
  {
   "cell_type": "code",
   "execution_count": null,
   "metadata": {},
   "outputs": [],
   "source": [
    "#RANDOM FOREST\n",
    "rf_params = {'n_estimators': [10,200],\n",
    "              'max_features': ['log2','sqrt'], #, 'sqrt','auto'\n",
    "              'criterion': [ 'gini'], #'entropy',\n",
    "              'max_depth': [15,30],\n",
    "              'min_samples_leaf': [20,30],\n",
    "             'class_weight':['balanced']\n",
    "             }\n",
    "y_val_rf=ml.random_forest(rf_params)\n",
    "printScore(y_val_rf,clean_data[clean_data['data']=='val']['target'])"
   ]
  },
  {
   "cell_type": "code",
   "execution_count": 126,
   "metadata": {},
   "outputs": [
    {
     "name": "stdout",
     "output_type": "stream",
     "text": [
      "XGBClassifier(base_score=0.5, booster='gbtree', colsample_bylevel=1,\n",
      "       colsample_bynode=1, colsample_bytree=0.5, eta=0.02,\n",
      "       eval_metric='logloss', gamma=0, gpu_id=-1, importance_type='gain',\n",
      "       interaction_constraints='', learning_rate=0.0199999996,\n",
      "       max_delta_step=0, max_depth=4, min_child_weight=1, missing=nan,\n",
      "       monotone_constraints='()', n_estimators=100, n_jobs=0,\n",
      "       num_parallel_tree=1, objective='binary:logistic', random_state=0,\n",
      "       reg_alpha=0, reg_lambda=1, scale_pos_weight=1, subsample=0.6,\n",
      "       tree_method='exact', validate_parameters=1, verbosity=None)\n",
      "{'colsample_bytree': 0.5, 'eta': 0.02, 'eval_metric': 'logloss', 'max_depth': 4, 'subsample': 0.6}\n",
      "0.6213929189654477\n",
      "Wall time: 9min 44s\n"
     ]
    }
   ],
   "source": [
    "%%time\n",
    "#XGB\n",
    "num_boost_round=3\n",
    "xgb_params = {'eta': [0.02],\n",
    "              'max_depth': [2,4], \n",
    "              'subsample':[ 0.6],\n",
    "              'colsample_bytree': [0.5],\n",
    "              'eval_metric': ['logloss']}\n",
    "\n",
    "y_val_xgb=ml.xgb(xgb_params)\n",
    "printScore(np.where(y_val_xgb>0.12,1,0),clean_data[clean_data['data']=='val']['target'])"
   ]
  },
  {
   "cell_type": "code",
   "execution_count": null,
   "metadata": {},
   "outputs": [],
   "source": []
  },
  {
   "cell_type": "code",
   "execution_count": null,
   "metadata": {},
   "outputs": [],
   "source": []
  },
  {
   "cell_type": "code",
   "execution_count": 134,
   "metadata": {},
   "outputs": [],
   "source": []
  },
  {
   "cell_type": "code",
   "execution_count": null,
   "metadata": {},
   "outputs": [],
   "source": []
  },
  {
   "cell_type": "code",
   "execution_count": null,
   "metadata": {},
   "outputs": [],
   "source": []
  }
 ],
 "metadata": {
  "kernelspec": {
   "display_name": "Python 3",
   "language": "python",
   "name": "python3"
  },
  "language_info": {
   "codemirror_mode": {
    "name": "ipython",
    "version": 3
   },
   "file_extension": ".py",
   "mimetype": "text/x-python",
   "name": "python",
   "nbconvert_exporter": "python",
   "pygments_lexer": "ipython3",
   "version": "3.6.5"
  }
 },
 "nbformat": 4,
 "nbformat_minor": 2
}
