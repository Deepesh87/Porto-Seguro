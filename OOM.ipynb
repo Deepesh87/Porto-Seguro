{
 "cells": [
  {
   "cell_type": "markdown",
   "metadata": {},
   "source": [
    "### Import Libraries & Functions"
   ]
  },
  {
   "cell_type": "code",
   "execution_count": 215,
   "metadata": {},
   "outputs": [],
   "source": [
    "%run Libraries.ipynb"
   ]
  },
  {
   "cell_type": "code",
   "execution_count": 41,
   "metadata": {},
   "outputs": [],
   "source": [
    "class ObjectOrientedPorto:\n",
    "    \"\"\"\n",
    "    Create instance by merging train and test\n",
    "    \"\"\"\n",
    "    def __init__(self,train,test):\n",
    "        print('Object Oriented Instance Created')\n",
    "        self.y_train=train['target']\n",
    "        self.x_train=train.drop('target',axis=1)\n",
    "        self.x_test=test\n",
    "        print(\"Train Size{}\".format(train.shape))\n",
    "        print(\"Test Size{}\".format(test.shape))\n",
    "\n",
    "        \n",
    "        \n",
    "    def merge_train_test(self):\n",
    "        \"\"\"\n",
    "        merge train and test to a DF to do basic Descriptive Stats analysis\n",
    "        \"\"\"\n",
    "        merged_data=pd.concat([self.x_train,self.x_test],axis=0)\n",
    "        merged_data.reset_index(drop=True,inplace=True)\n",
    "        print(\"Data Merged. Total Rows {}\".format(merged_data.shape))\n",
    "        return merged_data\n",
    "    \n",
    "    \n",
    "    def _info(self,data):\n",
    "        \"\"\"\n",
    "        prepare meta data\n",
    "        \"\"\"\n",
    "        local_merged_data=data\n",
    "        \n",
    "        level=[]\n",
    "        for feature in local_merged_data.columns:\n",
    "            if 'cat' in feature or feature=='id':\n",
    "                level.append('nominal')\n",
    "            elif 'bin' in feature:\n",
    "                level.append('binary')\n",
    "            elif local_merged_data[feature].dtypes=='int64':\n",
    "                level.append('ordinal')\n",
    "            elif local_merged_data[feature].dtypes=='float64':\n",
    "                level.append('interval')\n",
    "                \n",
    "        meta=pd.DataFrame(level,columns=['level'])\n",
    "        meta['role']=['id' if feature=='id' else 'input' for feature in local_merged_data.columns]\n",
    "        meta.index=local_merged_data.columns\n",
    "        meta['keep']=True        \n",
    "        meta['dtype']=[local_merged_data[feature].dtype for feature in local_merged_data.columns]\n",
    "        meta['Missing_Count']=list(map(lambda x: sum(local_merged_data[x]==-1),local_merged_data.columns))\n",
    "        meta['Missing_Percent']=round(meta['Missing_Count']*100/local_merged_data.shape[0],2)\n",
    "        meta.loc[meta['Missing_Percent']>25, 'keep']=False\n",
    "        meta.loc['id','keep']=False\n",
    "        return meta                \n",
    "                \n",
    "                \n",
    "    def describe_data(self,data,meta_data,var_type):\n",
    "        \"\"\"\n",
    "        this output will help us understand the range,variance and if scaling is needed etc.\n",
    "        Var_type can be interval, ordinal or nominal\n",
    "        \"\"\"\n",
    "        temp=meta_data[(meta_data.level==var_type) & (meta_data.keep)].index\n",
    "        print(\"{} Variable\".format(var_type))\n",
    "        print(\"=======================\")\n",
    "        return(data[temp].describe())                "
   ]
  },
  {
   "cell_type": "markdown",
   "metadata": {},
   "source": [
    "### Exploratory Data Analysis"
   ]
  },
  {
   "cell_type": "code",
   "execution_count": 7,
   "metadata": {},
   "outputs": [],
   "source": [
    "train=pd.read_csv('train.csv')\n",
    "test=pd.read_csv('test.csv')"
   ]
  },
  {
   "cell_type": "code",
   "execution_count": 42,
   "metadata": {},
   "outputs": [
    {
     "name": "stdout",
     "output_type": "stream",
     "text": [
      "Object Oriented Instance Created\n",
      "Train Size(595212, 59)\n",
      "Test Size(892816, 58)\n",
      "Data Merged. Total Rows (1488028, 58)\n",
      "Wall time: 2.37 s\n"
     ]
    }
   ],
   "source": [
    "%%time\n",
    "porto_instance=ObjectOrientedPorto(train,test)\n",
    "all_data=porto_instance.merge_train_test()"
   ]
  },
  {
   "cell_type": "code",
   "execution_count": 43,
   "metadata": {},
   "outputs": [],
   "source": [
    "#Add a new column. i.e total number of NA per ID variable. This is part of Feature Engineering\n",
    "all_data['NA_count']=np.sum(all_data.apply(lambda x:x==-1),axis=1)"
   ]
  },
  {
   "cell_type": "code",
   "execution_count": 44,
   "metadata": {},
   "outputs": [
    {
     "name": "stdout",
     "output_type": "stream",
     "text": [
      "                  level   role  keep  dtype  Missing_Count  Missing_Percent\n",
      "ps_calc_17_bin   binary  input  True  int64              0              0.0\n",
      "ps_calc_18_bin   binary  input  True  int64              0              0.0\n",
      "ps_calc_19_bin   binary  input  True  int64              0              0.0\n",
      "ps_calc_20_bin   binary  input  True  int64              0              0.0\n",
      "NA_count        ordinal  input  True  int64              0              0.0\n",
      "Wall time: 3.67 s\n"
     ]
    }
   ],
   "source": [
    "%%time\n",
    "meta_data=porto_instance._info(all_data)\n",
    "print(meta_data.tail())"
   ]
  },
  {
   "cell_type": "code",
   "execution_count": 45,
   "metadata": {},
   "outputs": [
    {
     "name": "stdout",
     "output_type": "stream",
     "text": [
      "interval Variable\n",
      "=======================\n"
     ]
    },
    {
     "data": {
      "text/html": [
       "<div>\n",
       "<style scoped>\n",
       "    .dataframe tbody tr th:only-of-type {\n",
       "        vertical-align: middle;\n",
       "    }\n",
       "\n",
       "    .dataframe tbody tr th {\n",
       "        vertical-align: top;\n",
       "    }\n",
       "\n",
       "    .dataframe thead th {\n",
       "        text-align: right;\n",
       "    }\n",
       "</style>\n",
       "<table border=\"1\" class=\"dataframe\">\n",
       "  <thead>\n",
       "    <tr style=\"text-align: right;\">\n",
       "      <th></th>\n",
       "      <th>ps_reg_01</th>\n",
       "      <th>ps_reg_02</th>\n",
       "      <th>ps_reg_03</th>\n",
       "      <th>ps_car_12</th>\n",
       "      <th>ps_car_13</th>\n",
       "      <th>ps_car_14</th>\n",
       "      <th>ps_car_15</th>\n",
       "      <th>ps_calc_01</th>\n",
       "      <th>ps_calc_02</th>\n",
       "      <th>ps_calc_03</th>\n",
       "    </tr>\n",
       "  </thead>\n",
       "  <tbody>\n",
       "    <tr>\n",
       "      <th>count</th>\n",
       "      <td>1.488028e+06</td>\n",
       "      <td>1.488028e+06</td>\n",
       "      <td>1.488028e+06</td>\n",
       "      <td>1.488028e+06</td>\n",
       "      <td>1.488028e+06</td>\n",
       "      <td>1.488028e+06</td>\n",
       "      <td>1.488028e+06</td>\n",
       "      <td>1.488028e+06</td>\n",
       "      <td>1.488028e+06</td>\n",
       "      <td>1.488028e+06</td>\n",
       "    </tr>\n",
       "    <tr>\n",
       "      <th>mean</th>\n",
       "      <td>6.110305e-01</td>\n",
       "      <td>4.395943e-01</td>\n",
       "      <td>5.514848e-01</td>\n",
       "      <td>3.799519e-01</td>\n",
       "      <td>8.134878e-01</td>\n",
       "      <td>2.763614e-01</td>\n",
       "      <td>3.067355e+00</td>\n",
       "      <td>4.496817e-01</td>\n",
       "      <td>4.501073e-01</td>\n",
       "      <td>4.499718e-01</td>\n",
       "    </tr>\n",
       "    <tr>\n",
       "      <th>std</th>\n",
       "      <td>2.876763e-01</td>\n",
       "      <td>4.045123e-01</td>\n",
       "      <td>7.938159e-01</td>\n",
       "      <td>5.836187e-02</td>\n",
       "      <td>2.247024e-01</td>\n",
       "      <td>3.569623e-01</td>\n",
       "      <td>7.299510e-01</td>\n",
       "      <td>2.872071e-01</td>\n",
       "      <td>2.871817e-01</td>\n",
       "      <td>2.872136e-01</td>\n",
       "    </tr>\n",
       "    <tr>\n",
       "      <th>min</th>\n",
       "      <td>0.000000e+00</td>\n",
       "      <td>0.000000e+00</td>\n",
       "      <td>-1.000000e+00</td>\n",
       "      <td>-1.000000e+00</td>\n",
       "      <td>2.506191e-01</td>\n",
       "      <td>-1.000000e+00</td>\n",
       "      <td>0.000000e+00</td>\n",
       "      <td>0.000000e+00</td>\n",
       "      <td>0.000000e+00</td>\n",
       "      <td>0.000000e+00</td>\n",
       "    </tr>\n",
       "    <tr>\n",
       "      <th>25%</th>\n",
       "      <td>4.000000e-01</td>\n",
       "      <td>2.000000e-01</td>\n",
       "      <td>5.250000e-01</td>\n",
       "      <td>3.162278e-01</td>\n",
       "      <td>6.710052e-01</td>\n",
       "      <td>3.339162e-01</td>\n",
       "      <td>2.828427e+00</td>\n",
       "      <td>2.000000e-01</td>\n",
       "      <td>2.000000e-01</td>\n",
       "      <td>2.000000e-01</td>\n",
       "    </tr>\n",
       "    <tr>\n",
       "      <th>50%</th>\n",
       "      <td>7.000000e-01</td>\n",
       "      <td>3.000000e-01</td>\n",
       "      <td>7.211103e-01</td>\n",
       "      <td>3.741657e-01</td>\n",
       "      <td>7.660406e-01</td>\n",
       "      <td>3.687818e-01</td>\n",
       "      <td>3.316625e+00</td>\n",
       "      <td>4.000000e-01</td>\n",
       "      <td>5.000000e-01</td>\n",
       "      <td>5.000000e-01</td>\n",
       "    </tr>\n",
       "    <tr>\n",
       "      <th>75%</th>\n",
       "      <td>9.000000e-01</td>\n",
       "      <td>6.000000e-01</td>\n",
       "      <td>1.001561e+00</td>\n",
       "      <td>4.000000e-01</td>\n",
       "      <td>9.061429e-01</td>\n",
       "      <td>3.964846e-01</td>\n",
       "      <td>3.605551e+00</td>\n",
       "      <td>7.000000e-01</td>\n",
       "      <td>7.000000e-01</td>\n",
       "      <td>7.000000e-01</td>\n",
       "    </tr>\n",
       "    <tr>\n",
       "      <th>max</th>\n",
       "      <td>9.000000e-01</td>\n",
       "      <td>1.800000e+00</td>\n",
       "      <td>4.423517e+00</td>\n",
       "      <td>1.264911e+00</td>\n",
       "      <td>4.031301e+00</td>\n",
       "      <td>6.363961e-01</td>\n",
       "      <td>3.741657e+00</td>\n",
       "      <td>9.000000e-01</td>\n",
       "      <td>9.000000e-01</td>\n",
       "      <td>9.000000e-01</td>\n",
       "    </tr>\n",
       "  </tbody>\n",
       "</table>\n",
       "</div>"
      ],
      "text/plain": [
       "          ps_reg_01     ps_reg_02     ps_reg_03     ps_car_12     ps_car_13  \\\n",
       "count  1.488028e+06  1.488028e+06  1.488028e+06  1.488028e+06  1.488028e+06   \n",
       "mean   6.110305e-01  4.395943e-01  5.514848e-01  3.799519e-01  8.134878e-01   \n",
       "std    2.876763e-01  4.045123e-01  7.938159e-01  5.836187e-02  2.247024e-01   \n",
       "min    0.000000e+00  0.000000e+00 -1.000000e+00 -1.000000e+00  2.506191e-01   \n",
       "25%    4.000000e-01  2.000000e-01  5.250000e-01  3.162278e-01  6.710052e-01   \n",
       "50%    7.000000e-01  3.000000e-01  7.211103e-01  3.741657e-01  7.660406e-01   \n",
       "75%    9.000000e-01  6.000000e-01  1.001561e+00  4.000000e-01  9.061429e-01   \n",
       "max    9.000000e-01  1.800000e+00  4.423517e+00  1.264911e+00  4.031301e+00   \n",
       "\n",
       "          ps_car_14     ps_car_15    ps_calc_01    ps_calc_02    ps_calc_03  \n",
       "count  1.488028e+06  1.488028e+06  1.488028e+06  1.488028e+06  1.488028e+06  \n",
       "mean   2.763614e-01  3.067355e+00  4.496817e-01  4.501073e-01  4.499718e-01  \n",
       "std    3.569623e-01  7.299510e-01  2.872071e-01  2.871817e-01  2.872136e-01  \n",
       "min   -1.000000e+00  0.000000e+00  0.000000e+00  0.000000e+00  0.000000e+00  \n",
       "25%    3.339162e-01  2.828427e+00  2.000000e-01  2.000000e-01  2.000000e-01  \n",
       "50%    3.687818e-01  3.316625e+00  4.000000e-01  5.000000e-01  5.000000e-01  \n",
       "75%    3.964846e-01  3.605551e+00  7.000000e-01  7.000000e-01  7.000000e-01  \n",
       "max    6.363961e-01  3.741657e+00  9.000000e-01  9.000000e-01  9.000000e-01  "
      ]
     },
     "execution_count": 45,
     "metadata": {},
     "output_type": "execute_result"
    }
   ],
   "source": [
    "porto_instance.describe_data(all_data,meta_data,\"interval\")"
   ]
  },
  {
   "cell_type": "code",
   "execution_count": 142,
   "metadata": {},
   "outputs": [],
   "source": [
    "#porto_instance.describe_data(all_data,meta_data,\"nominal\") since describe for nominal variable will not amke sense"
   ]
  },
  {
   "cell_type": "code",
   "execution_count": 47,
   "metadata": {},
   "outputs": [
    {
     "name": "stdout",
     "output_type": "stream",
     "text": [
      "ordinal Variable\n",
      "=======================\n"
     ]
    },
    {
     "data": {
      "text/html": [
       "<div>\n",
       "<style scoped>\n",
       "    .dataframe tbody tr th:only-of-type {\n",
       "        vertical-align: middle;\n",
       "    }\n",
       "\n",
       "    .dataframe tbody tr th {\n",
       "        vertical-align: top;\n",
       "    }\n",
       "\n",
       "    .dataframe thead th {\n",
       "        text-align: right;\n",
       "    }\n",
       "</style>\n",
       "<table border=\"1\" class=\"dataframe\">\n",
       "  <thead>\n",
       "    <tr style=\"text-align: right;\">\n",
       "      <th></th>\n",
       "      <th>ps_ind_01</th>\n",
       "      <th>ps_ind_03</th>\n",
       "      <th>ps_ind_14</th>\n",
       "      <th>ps_ind_15</th>\n",
       "      <th>ps_car_11</th>\n",
       "      <th>ps_calc_04</th>\n",
       "      <th>ps_calc_05</th>\n",
       "      <th>ps_calc_06</th>\n",
       "      <th>ps_calc_07</th>\n",
       "      <th>ps_calc_08</th>\n",
       "      <th>ps_calc_09</th>\n",
       "      <th>ps_calc_10</th>\n",
       "      <th>ps_calc_11</th>\n",
       "      <th>ps_calc_12</th>\n",
       "      <th>ps_calc_13</th>\n",
       "      <th>ps_calc_14</th>\n",
       "      <th>NA_count</th>\n",
       "    </tr>\n",
       "  </thead>\n",
       "  <tbody>\n",
       "    <tr>\n",
       "      <th>count</th>\n",
       "      <td>1.488028e+06</td>\n",
       "      <td>1.488028e+06</td>\n",
       "      <td>1.488028e+06</td>\n",
       "      <td>1.488028e+06</td>\n",
       "      <td>1.488028e+06</td>\n",
       "      <td>1.488028e+06</td>\n",
       "      <td>1.488028e+06</td>\n",
       "      <td>1.488028e+06</td>\n",
       "      <td>1.488028e+06</td>\n",
       "      <td>1.488028e+06</td>\n",
       "      <td>1.488028e+06</td>\n",
       "      <td>1.488028e+06</td>\n",
       "      <td>1.488028e+06</td>\n",
       "      <td>1.488028e+06</td>\n",
       "      <td>1.488028e+06</td>\n",
       "      <td>1.488028e+06</td>\n",
       "      <td>1.488028e+06</td>\n",
       "    </tr>\n",
       "    <tr>\n",
       "      <th>mean</th>\n",
       "      <td>1.901574e+00</td>\n",
       "      <td>4.417567e+00</td>\n",
       "      <td>1.241038e-02</td>\n",
       "      <td>7.298086e+00</td>\n",
       "      <td>2.346392e+00</td>\n",
       "      <td>2.371666e+00</td>\n",
       "      <td>1.885551e+00</td>\n",
       "      <td>7.688461e+00</td>\n",
       "      <td>3.008052e+00</td>\n",
       "      <td>9.225874e+00</td>\n",
       "      <td>2.338736e+00</td>\n",
       "      <td>8.439336e+00</td>\n",
       "      <td>5.439640e+00</td>\n",
       "      <td>1.440927e+00</td>\n",
       "      <td>2.873923e+00</td>\n",
       "      <td>7.539831e+00</td>\n",
       "      <td>1.422522e+00</td>\n",
       "    </tr>\n",
       "    <tr>\n",
       "      <th>std</th>\n",
       "      <td>1.985417e+00</td>\n",
       "      <td>2.700054e+00</td>\n",
       "      <td>1.273684e-01</td>\n",
       "      <td>3.543585e+00</td>\n",
       "      <td>8.320187e-01</td>\n",
       "      <td>1.117059e+00</td>\n",
       "      <td>1.136029e+00</td>\n",
       "      <td>1.333837e+00</td>\n",
       "      <td>1.414919e+00</td>\n",
       "      <td>1.460205e+00</td>\n",
       "      <td>1.247940e+00</td>\n",
       "      <td>2.905658e+00</td>\n",
       "      <td>2.331197e+00</td>\n",
       "      <td>1.201557e+00</td>\n",
       "      <td>1.694398e+00</td>\n",
       "      <td>2.746189e+00</td>\n",
       "      <td>9.399471e-01</td>\n",
       "    </tr>\n",
       "    <tr>\n",
       "      <th>min</th>\n",
       "      <td>0.000000e+00</td>\n",
       "      <td>0.000000e+00</td>\n",
       "      <td>0.000000e+00</td>\n",
       "      <td>0.000000e+00</td>\n",
       "      <td>-1.000000e+00</td>\n",
       "      <td>0.000000e+00</td>\n",
       "      <td>0.000000e+00</td>\n",
       "      <td>0.000000e+00</td>\n",
       "      <td>0.000000e+00</td>\n",
       "      <td>1.000000e+00</td>\n",
       "      <td>0.000000e+00</td>\n",
       "      <td>0.000000e+00</td>\n",
       "      <td>0.000000e+00</td>\n",
       "      <td>0.000000e+00</td>\n",
       "      <td>0.000000e+00</td>\n",
       "      <td>0.000000e+00</td>\n",
       "      <td>0.000000e+00</td>\n",
       "    </tr>\n",
       "    <tr>\n",
       "      <th>25%</th>\n",
       "      <td>0.000000e+00</td>\n",
       "      <td>2.000000e+00</td>\n",
       "      <td>0.000000e+00</td>\n",
       "      <td>5.000000e+00</td>\n",
       "      <td>2.000000e+00</td>\n",
       "      <td>2.000000e+00</td>\n",
       "      <td>1.000000e+00</td>\n",
       "      <td>7.000000e+00</td>\n",
       "      <td>2.000000e+00</td>\n",
       "      <td>8.000000e+00</td>\n",
       "      <td>1.000000e+00</td>\n",
       "      <td>6.000000e+00</td>\n",
       "      <td>4.000000e+00</td>\n",
       "      <td>1.000000e+00</td>\n",
       "      <td>2.000000e+00</td>\n",
       "      <td>6.000000e+00</td>\n",
       "      <td>1.000000e+00</td>\n",
       "    </tr>\n",
       "    <tr>\n",
       "      <th>50%</th>\n",
       "      <td>1.000000e+00</td>\n",
       "      <td>4.000000e+00</td>\n",
       "      <td>0.000000e+00</td>\n",
       "      <td>7.000000e+00</td>\n",
       "      <td>3.000000e+00</td>\n",
       "      <td>2.000000e+00</td>\n",
       "      <td>2.000000e+00</td>\n",
       "      <td>8.000000e+00</td>\n",
       "      <td>3.000000e+00</td>\n",
       "      <td>9.000000e+00</td>\n",
       "      <td>2.000000e+00</td>\n",
       "      <td>8.000000e+00</td>\n",
       "      <td>5.000000e+00</td>\n",
       "      <td>1.000000e+00</td>\n",
       "      <td>3.000000e+00</td>\n",
       "      <td>7.000000e+00</td>\n",
       "      <td>2.000000e+00</td>\n",
       "    </tr>\n",
       "    <tr>\n",
       "      <th>75%</th>\n",
       "      <td>3.000000e+00</td>\n",
       "      <td>6.000000e+00</td>\n",
       "      <td>0.000000e+00</td>\n",
       "      <td>1.000000e+01</td>\n",
       "      <td>3.000000e+00</td>\n",
       "      <td>3.000000e+00</td>\n",
       "      <td>3.000000e+00</td>\n",
       "      <td>9.000000e+00</td>\n",
       "      <td>4.000000e+00</td>\n",
       "      <td>1.000000e+01</td>\n",
       "      <td>3.000000e+00</td>\n",
       "      <td>1.000000e+01</td>\n",
       "      <td>7.000000e+00</td>\n",
       "      <td>2.000000e+00</td>\n",
       "      <td>4.000000e+00</td>\n",
       "      <td>9.000000e+00</td>\n",
       "      <td>2.000000e+00</td>\n",
       "    </tr>\n",
       "    <tr>\n",
       "      <th>max</th>\n",
       "      <td>7.000000e+00</td>\n",
       "      <td>1.100000e+01</td>\n",
       "      <td>4.000000e+00</td>\n",
       "      <td>1.300000e+01</td>\n",
       "      <td>3.000000e+00</td>\n",
       "      <td>5.000000e+00</td>\n",
       "      <td>6.000000e+00</td>\n",
       "      <td>1.000000e+01</td>\n",
       "      <td>9.000000e+00</td>\n",
       "      <td>1.200000e+01</td>\n",
       "      <td>7.000000e+00</td>\n",
       "      <td>2.500000e+01</td>\n",
       "      <td>2.000000e+01</td>\n",
       "      <td>1.100000e+01</td>\n",
       "      <td>1.500000e+01</td>\n",
       "      <td>2.800000e+01</td>\n",
       "      <td>8.000000e+00</td>\n",
       "    </tr>\n",
       "  </tbody>\n",
       "</table>\n",
       "</div>"
      ],
      "text/plain": [
       "          ps_ind_01     ps_ind_03     ps_ind_14     ps_ind_15     ps_car_11  \\\n",
       "count  1.488028e+06  1.488028e+06  1.488028e+06  1.488028e+06  1.488028e+06   \n",
       "mean   1.901574e+00  4.417567e+00  1.241038e-02  7.298086e+00  2.346392e+00   \n",
       "std    1.985417e+00  2.700054e+00  1.273684e-01  3.543585e+00  8.320187e-01   \n",
       "min    0.000000e+00  0.000000e+00  0.000000e+00  0.000000e+00 -1.000000e+00   \n",
       "25%    0.000000e+00  2.000000e+00  0.000000e+00  5.000000e+00  2.000000e+00   \n",
       "50%    1.000000e+00  4.000000e+00  0.000000e+00  7.000000e+00  3.000000e+00   \n",
       "75%    3.000000e+00  6.000000e+00  0.000000e+00  1.000000e+01  3.000000e+00   \n",
       "max    7.000000e+00  1.100000e+01  4.000000e+00  1.300000e+01  3.000000e+00   \n",
       "\n",
       "         ps_calc_04    ps_calc_05    ps_calc_06    ps_calc_07    ps_calc_08  \\\n",
       "count  1.488028e+06  1.488028e+06  1.488028e+06  1.488028e+06  1.488028e+06   \n",
       "mean   2.371666e+00  1.885551e+00  7.688461e+00  3.008052e+00  9.225874e+00   \n",
       "std    1.117059e+00  1.136029e+00  1.333837e+00  1.414919e+00  1.460205e+00   \n",
       "min    0.000000e+00  0.000000e+00  0.000000e+00  0.000000e+00  1.000000e+00   \n",
       "25%    2.000000e+00  1.000000e+00  7.000000e+00  2.000000e+00  8.000000e+00   \n",
       "50%    2.000000e+00  2.000000e+00  8.000000e+00  3.000000e+00  9.000000e+00   \n",
       "75%    3.000000e+00  3.000000e+00  9.000000e+00  4.000000e+00  1.000000e+01   \n",
       "max    5.000000e+00  6.000000e+00  1.000000e+01  9.000000e+00  1.200000e+01   \n",
       "\n",
       "         ps_calc_09    ps_calc_10    ps_calc_11    ps_calc_12    ps_calc_13  \\\n",
       "count  1.488028e+06  1.488028e+06  1.488028e+06  1.488028e+06  1.488028e+06   \n",
       "mean   2.338736e+00  8.439336e+00  5.439640e+00  1.440927e+00  2.873923e+00   \n",
       "std    1.247940e+00  2.905658e+00  2.331197e+00  1.201557e+00  1.694398e+00   \n",
       "min    0.000000e+00  0.000000e+00  0.000000e+00  0.000000e+00  0.000000e+00   \n",
       "25%    1.000000e+00  6.000000e+00  4.000000e+00  1.000000e+00  2.000000e+00   \n",
       "50%    2.000000e+00  8.000000e+00  5.000000e+00  1.000000e+00  3.000000e+00   \n",
       "75%    3.000000e+00  1.000000e+01  7.000000e+00  2.000000e+00  4.000000e+00   \n",
       "max    7.000000e+00  2.500000e+01  2.000000e+01  1.100000e+01  1.500000e+01   \n",
       "\n",
       "         ps_calc_14      NA_count  \n",
       "count  1.488028e+06  1.488028e+06  \n",
       "mean   7.539831e+00  1.422522e+00  \n",
       "std    2.746189e+00  9.399471e-01  \n",
       "min    0.000000e+00  0.000000e+00  \n",
       "25%    6.000000e+00  1.000000e+00  \n",
       "50%    7.000000e+00  2.000000e+00  \n",
       "75%    9.000000e+00  2.000000e+00  \n",
       "max    2.800000e+01  8.000000e+00  "
      ]
     },
     "execution_count": 47,
     "metadata": {},
     "output_type": "execute_result"
    }
   ],
   "source": [
    "porto_instance.describe_data(all_data,meta_data,\"ordinal\")"
   ]
  },
  {
   "cell_type": "code",
   "execution_count": 48,
   "metadata": {},
   "outputs": [],
   "source": [
    "class Preprocess():\n",
    "    \n",
    "    def __init__(self,all_data,val_size=None):\n",
    "        print(\"Preprocess Object Created\")\n",
    "        self.all_data=all_data\n",
    "        if val_size==None:\n",
    "            self.val_size=0.3\n",
    "        else:\n",
    "            self.val_size=val_size            \n",
    "          \n",
    "    \n",
    "    def _get_train_test_val_split(self):\n",
    "        \"\"\"\n",
    "        return a dic with keys X_train,y_train,X_val,y_val,X_test\n",
    "        \"\"\"\n",
    "        all_data_local=self.all_data\n",
    "        data_dic={}\n",
    "        train_data=all_data_local.head(train.shape[0])\n",
    "        test_data=all_data_local.tail(test.shape[0])\n",
    "        X_train, X_val,y_train, y_val=train_test_split(train_data,train['target'],test_size=self.val_size,random_state=1)\n",
    "        data_dic['X_train']=X_train\n",
    "        data_dic['X_val']=X_val\n",
    "        data_dic['y_train']=y_train\n",
    "        data_dic['y_val']=y_val\n",
    "        data_dic['X_test']=test_data\n",
    "        return data_dic\n",
    "    \n",
    "        \n",
    "    def fillna(self,data_dic,meta_data):\n",
    "        \"\"\"\n",
    "        #input- 1)dic with train,val and test data 2) meta data\n",
    "        \n",
    "        Keep nominal variables with NA as is (-1)\n",
    "        Replace interval variables with NA by median\n",
    "        Replace ordinal variables with NA by mode\n",
    "        \n",
    "        #output- 1)returns the dictionary(as input) back after imputing the Nulls\n",
    "                 2) meta data after updating of MissingCount and MissingPercent columns\n",
    "        \n",
    "        \"\"\"\n",
    "        info=meta_data\n",
    "        get_data=data_dic\n",
    "        \n",
    "        interval_features=(info [(info['keep'])&(info['Missing_Count']>0)& (info['level']=='interval')]).index\n",
    "        ordinal_features=(info [(info['keep'])&(info['Missing_Count']>0)& (info['level']=='ordinal')]).index\n",
    "\n",
    "        for i in interval_features:\n",
    "            get_data['X_train'][i]=get_data['X_train'][i].replace(-1,get_data['X_train'][i].median())\n",
    "            get_data['X_val'][i]=get_data['X_val'][i].replace(-1,get_data['X_train'][i].median())\n",
    "            get_data['X_test'][i]=get_data['X_test'][i].replace(-1,get_data['X_train'][i].median())\n",
    "            info.loc[i,['Missing_Count','Missing_Percent']]=0\n",
    "        \n",
    "        for j in ordinal_features:\n",
    "            get_data['X_train'][j]=get_data['X_train'][i].replace(-1,get_data['X_train'][i].mode()[0])\n",
    "            get_data['X_val'][j]=get_data['X_val'][i].replace(-1,get_data['X_train'][i].mode()[0])\n",
    "            get_data['X_test'][j]=get_data['X_test'][i].replace(-1,get_data['X_train'][i].mode()[0])\n",
    "            info.loc[j,['Missing_Count','Missing_Percent']]=0\n",
    "            \n",
    "        return (get_data,info)\n",
    "\n",
    "    \n",
    "            \n",
    "    def check_cardinality(self,data_dic,meta_data):\n",
    "        \"\"\"\n",
    "        #input - 1)dic with train,val and test data 2) meta data\n",
    "        Gives the number of distict levels for each categorical variable\n",
    "        #output- prints each nominal variables and the count of cardinalities within train data\n",
    "        \"\"\"\n",
    "        info=meta_data\n",
    "        nominal_features=(info [(info['keep'])& (info['level']=='nominal')]).index\n",
    "        train_data=data_dic['X_train']\n",
    "        \n",
    "        for i in nominal_features:\n",
    "            print('variable {} has {} distinct levels'.format(i,train_data[i].value_counts().shape[0]))\n",
    "            \n",
    "    def fix_cardinality(self,data_dic,meta_data,column_name):\n",
    "        \"\"\"\n",
    "        #input - 1)dic with train,val and test data 2) meta data 3) Column name ( cardinality will be fixed for this)\n",
    "         fix cardinality for a COLUMN ( variable that has too many dictinct levels). By P(1) \n",
    "        for that level or apriori if the level doesnot exist. This will give 3 series as output.\n",
    "        Add them then to the data ( train, val, test ) with post script _TE ( target encoded )\n",
    "        #output- 1) dic as the input but with cardinality replaced by Probability\n",
    "                 2) meta data after updation ( keep False for the original column)\n",
    "        \"\"\"\n",
    "        data=data_dic\n",
    "        info=meta_data\n",
    "        train_encoded,val_encoded, test_encoded= target_encode(data['X_train'][column_name],\\\n",
    "                                                               data['X_val'][column_name],data['X_test'][column_name],\\\n",
    "                                                               target=data['y_train'])        \n",
    "        data['X_train'][column_name+'_TE']=train_encoded\n",
    "        data['X_val'][column_name+'_TE']=val_encoded\n",
    "        data['X_test'][column_name+'_TE']=test_encoded\n",
    "        #update the meta data\n",
    "        info.loc[column_name,'keep']=False        \n",
    "        return (data,info)"
   ]
  },
  {
   "cell_type": "code",
   "execution_count": 56,
   "metadata": {},
   "outputs": [
    {
     "name": "stdout",
     "output_type": "stream",
     "text": [
      "Preprocess Object Created\n"
     ]
    }
   ],
   "source": [
    "preprocess_instance=Preprocess(all_data,0.40)\n",
    "all_data_dic=preprocess_instance._get_train_test_val_split()"
   ]
  },
  {
   "cell_type": "code",
   "execution_count": 57,
   "metadata": {},
   "outputs": [],
   "source": [
    "all_data_dic_imputed,meta_data_imputed=preprocess_instance.fillna(all_data_dic,meta_data)"
   ]
  },
  {
   "cell_type": "code",
   "execution_count": 58,
   "metadata": {},
   "outputs": [
    {
     "name": "stdout",
     "output_type": "stream",
     "text": [
      "variable ps_ind_02_cat has 5 distinct levels\n",
      "variable ps_ind_04_cat has 3 distinct levels\n",
      "variable ps_ind_05_cat has 8 distinct levels\n",
      "variable ps_car_01_cat has 13 distinct levels\n",
      "variable ps_car_02_cat has 3 distinct levels\n",
      "variable ps_car_04_cat has 10 distinct levels\n",
      "variable ps_car_06_cat has 18 distinct levels\n",
      "variable ps_car_07_cat has 3 distinct levels\n",
      "variable ps_car_08_cat has 2 distinct levels\n",
      "variable ps_car_09_cat has 6 distinct levels\n",
      "variable ps_car_10_cat has 3 distinct levels\n",
      "variable ps_car_11_cat has 104 distinct levels\n"
     ]
    }
   ],
   "source": [
    "preprocess_instance.check_cardinality(all_data_dic_imputed,meta_data_imputed)"
   ]
  },
  {
   "cell_type": "code",
   "execution_count": 59,
   "metadata": {},
   "outputs": [],
   "source": [
    "all_data_dic_imputed_TE,meta_data_imputed_TE  = preprocess_instance.fix_cardinality(all_data_dic,meta_data,'ps_car_11_cat')"
   ]
  },
  {
   "cell_type": "code",
   "execution_count": 61,
   "metadata": {},
   "outputs": [
    {
     "data": {
      "text/html": [
       "<div>\n",
       "<style scoped>\n",
       "    .dataframe tbody tr th:only-of-type {\n",
       "        vertical-align: middle;\n",
       "    }\n",
       "\n",
       "    .dataframe tbody tr th {\n",
       "        vertical-align: top;\n",
       "    }\n",
       "\n",
       "    .dataframe thead th {\n",
       "        text-align: right;\n",
       "    }\n",
       "</style>\n",
       "<table border=\"1\" class=\"dataframe\">\n",
       "  <thead>\n",
       "    <tr style=\"text-align: right;\">\n",
       "      <th></th>\n",
       "      <th>level</th>\n",
       "      <th>role</th>\n",
       "      <th>keep</th>\n",
       "      <th>dtype</th>\n",
       "      <th>Missing_Count</th>\n",
       "      <th>Missing_Percent</th>\n",
       "    </tr>\n",
       "  </thead>\n",
       "  <tbody>\n",
       "    <tr>\n",
       "      <th>id</th>\n",
       "      <td>nominal</td>\n",
       "      <td>id</td>\n",
       "      <td>False</td>\n",
       "      <td>int64</td>\n",
       "      <td>0</td>\n",
       "      <td>0.00</td>\n",
       "    </tr>\n",
       "    <tr>\n",
       "      <th>ps_ind_01</th>\n",
       "      <td>ordinal</td>\n",
       "      <td>input</td>\n",
       "      <td>True</td>\n",
       "      <td>int64</td>\n",
       "      <td>0</td>\n",
       "      <td>0.00</td>\n",
       "    </tr>\n",
       "    <tr>\n",
       "      <th>ps_ind_02_cat</th>\n",
       "      <td>nominal</td>\n",
       "      <td>input</td>\n",
       "      <td>True</td>\n",
       "      <td>int64</td>\n",
       "      <td>523</td>\n",
       "      <td>0.04</td>\n",
       "    </tr>\n",
       "    <tr>\n",
       "      <th>ps_ind_03</th>\n",
       "      <td>ordinal</td>\n",
       "      <td>input</td>\n",
       "      <td>True</td>\n",
       "      <td>int64</td>\n",
       "      <td>0</td>\n",
       "      <td>0.00</td>\n",
       "    </tr>\n",
       "    <tr>\n",
       "      <th>ps_ind_04_cat</th>\n",
       "      <td>nominal</td>\n",
       "      <td>input</td>\n",
       "      <td>True</td>\n",
       "      <td>int64</td>\n",
       "      <td>228</td>\n",
       "      <td>0.02</td>\n",
       "    </tr>\n",
       "  </tbody>\n",
       "</table>\n",
       "</div>"
      ],
      "text/plain": [
       "                 level   role   keep  dtype  Missing_Count  Missing_Percent\n",
       "id             nominal     id  False  int64              0             0.00\n",
       "ps_ind_01      ordinal  input   True  int64              0             0.00\n",
       "ps_ind_02_cat  nominal  input   True  int64            523             0.04\n",
       "ps_ind_03      ordinal  input   True  int64              0             0.00\n",
       "ps_ind_04_cat  nominal  input   True  int64            228             0.02"
      ]
     },
     "execution_count": 61,
     "metadata": {},
     "output_type": "execute_result"
    }
   ],
   "source": [
    "meta_data_imputed_TE.head()"
   ]
  },
  {
   "cell_type": "markdown",
   "metadata": {},
   "source": [
    "### Data Visualization"
   ]
  },
  {
   "cell_type": "code",
   "execution_count": 79,
   "metadata": {},
   "outputs": [],
   "source": [
    "class Visualize:\n",
    "    \n",
    "    def __init__(self,data,meta_data):\n",
    "        self.data=data\n",
    "        self.meta_data=meta_data\n",
    "        self.train=pd.concat([self.data['X_train'],self.data['y_train']],axis=1)\n",
    "        \n",
    "    def barplots(self):\n",
    "        \"\"\"\n",
    "        plots for each level of a nominal variable wrt the target variable \n",
    "        \"\"\"\n",
    "        nominal_vars=self.meta_data[(self.meta_data.level=='nominal') & (self.meta_data.keep==True)].index\n",
    "        \n",
    "        for f in nominal_vars:\n",
    "            plt.figure()\n",
    "            fig, ax = plt.subplots(figsize=(5,3))\n",
    "            # Calculate the percentage of target=1 per category value\n",
    "            cat_perc = self.train[[f, 'target']].groupby([f],as_index=False).mean()\n",
    "            cat_perc.sort_values(by='target', ascending=False, inplace=True)\n",
    "            # Bar plot\n",
    "            # Order the bars descending on target mean\n",
    "            sns.barplot(ax=ax, x=f, y='target', data=cat_perc, order=cat_perc[f])\n",
    "            plt.ylabel('% target', fontsize=18)\n",
    "            plt.xlabel(f, fontsize=18)\n",
    "            plt.tick_params(axis='both', which='major', labelsize=18)\n",
    "            plt.show();\n",
    "            \n",
    "            \n",
    "    def corplots(self,var):\n",
    "        \"\"\"\n",
    "        input- 1) Interval or Ordinal\n",
    "        plots for interval variables / ordinal variables \n",
    "        \"\"\"        \n",
    "        if var=='interval':\n",
    "            vars=self.meta_data[(self.meta_data.level==var) & (self.meta_data.keep==True)].index #interval_\n",
    "        else:\n",
    "            vars=self.meta_data[(self.meta_data.level==var) & (self.meta_data.keep==True)].index #ordinal_\n",
    "            \n",
    "        data=self.data['X_train']\n",
    "        \n",
    "        plt.subplots(figsize=(10,7))\n",
    "        cmap = sns.diverging_palette(220, 10, as_cmap=True)\n",
    "        sns.heatmap(self.train[vars].corr(),annot=True,fmt='.2f',cmap=cmap);"
   ]
  },
  {
   "cell_type": "code",
   "execution_count": 80,
   "metadata": {},
   "outputs": [
    {
     "data": {
      "text/plain": [
       "<Figure size 432x288 with 0 Axes>"
      ]
     },
     "metadata": {},
     "output_type": "display_data"
    },
    {
     "data": {
      "image/png": "[encoded data removed]",
      "text/plain": [
       "<Figure size 360x216 with 1 Axes>"
      ]
     },
     "metadata": {},
     "output_type": "display_data"
    },
    {
     "data": {
      "text/plain": [
       "<Figure size 432x288 with 0 Axes>"
      ]
     },
     "metadata": {},
     "output_type": "display_data"
    },
    {
     "data": {
      "image/png": "[encoded data removed]",
      "text/plain": [
       "<Figure size 360x216 with 1 Axes>"
      ]
     },
     "metadata": {},
     "output_type": "display_data"
    },
    {
     "data": {
      "text/plain": [
       "<Figure size 432x288 with 0 Axes>"
      ]
     },
     "metadata": {},
     "output_type": "display_data"
    },
    {
     "data": {
      "image/png": "[encoded data removed]",
      "text/plain": [
       "<Figure size 360x216 with 1 Axes>"
      ]
     },
     "metadata": {},
     "output_type": "display_data"
    },
    {
     "data": {
      "text/plain": [
       "<Figure size 432x288 with 0 Axes>"
      ]
     },
     "metadata": {},
     "output_type": "display_data"
    },
    {
     "data": {
      "image/png": "[encoded data removed]",
      "text/plain": [
       "<Figure size 360x216 with 1 Axes>"
      ]
     },
     "metadata": {},
     "output_type": "display_data"
    },
    {
     "data": {
      "text/plain": [
       "<Figure size 432x288 with 0 Axes>"
      ]
     },
     "metadata": {},
     "output_type": "display_data"
    },
    {
     "data": {
      "image/png": "[encoded data removed]",
      "text/plain": [
       "<Figure size 360x216 with 1 Axes>"
      ]
     },
     "metadata": {},
     "output_type": "display_data"
    },
    {
     "data": {
      "text/plain": [
       "<Figure size 432x288 with 0 Axes>"
      ]
     },
     "metadata": {},
     "output_type": "display_data"
    },
    {
     "data": {
      "image/png": "[encoded data removed]",
      "text/plain": [
       "<Figure size 360x216 with 1 Axes>"
      ]
     },
     "metadata": {},
     "output_type": "display_data"
    },
    {
     "data": {
      "text/plain": [
       "<Figure size 432x288 with 0 Axes>"
      ]
     },
     "metadata": {},
     "output_type": "display_data"
    },
    {
     "data": {
      "image/png": "[encoded data removed]",
      "text/plain": [
       "<Figure size 360x216 with 1 Axes>"
      ]
     },
     "metadata": {},
     "output_type": "display_data"
    },
    {
     "data": {
      "text/plain": [
       "<Figure size 432x288 with 0 Axes>"
      ]
     },
     "metadata": {},
     "output_type": "display_data"
    },
    {
     "data": {
      "image/png": "[encoded data removed]",
      "text/plain": [
       "<Figure size 360x216 with 1 Axes>"
      ]
     },
     "metadata": {},
     "output_type": "display_data"
    },
    {
     "data": {
      "text/plain": [
       "<Figure size 432x288 with 0 Axes>"
      ]
     },
     "metadata": {},
     "output_type": "display_data"
    },
    {
     "data": {
      "image/png": "[encoded data removed]",
      "text/plain": [
       "<Figure size 360x216 with 1 Axes>"
      ]
     },
     "metadata": {},
     "output_type": "display_data"
    },
    {
     "data": {
      "text/plain": [
       "<Figure size 432x288 with 0 Axes>"
      ]
     },
     "metadata": {},
     "output_type": "display_data"
    },
    {
     "data": {
      "image/png": "[encoded data removed]",
      "text/plain": [
       "<Figure size 360x216 with 1 Axes>"
      ]
     },
     "metadata": {},
     "output_type": "display_data"
    },
    {
     "data": {
      "text/plain": [
       "<Figure size 432x288 with 0 Axes>"
      ]
     },
     "metadata": {},
     "output_type": "display_data"
    },
    {
     "data": {
      "image/png": "[encoded data removed]",
      "text/plain": [
       "<Figure size 360x216 with 1 Axes>"
      ]
     },
     "metadata": {},
     "output_type": "display_data"
    }
   ],
   "source": [
    "viz=Visualize(all_data_dic_imputed_TE,meta_data_imputed_TE)\n",
    "viz.barplots(); #nominal variables"
   ]
  },
  {
   "cell_type": "code",
   "execution_count": 81,
   "metadata": {},
   "outputs": [
    {
     "data": {
      "image/png": "[encoded data removed]",
      "text/plain": [
       "<Figure size 720x504 with 2 Axes>"
      ]
     },
     "metadata": {},
     "output_type": "display_data"
    }
   ],
   "source": [
    "viz.corplots('interval')"
   ]
  },
  {
   "cell_type": "code",
   "execution_count": 82,
   "metadata": {},
   "outputs": [
    {
     "data": {
      "image/png": "[encoded data removed]",
      "text/plain": [
       "<Figure size 720x504 with 2 Axes>"
      ]
     },
     "metadata": {},
     "output_type": "display_data"
    }
   ],
   "source": [
    "viz.corplots('ordinal')"
   ]
  },
  {
   "cell_type": "markdown",
   "metadata": {},
   "source": [
    "### Feature Engineering"
   ]
  },
  {
   "cell_type": "code",
   "execution_count": 84,
   "metadata": {},
   "outputs": [],
   "source": [
    "class feature_engineering:\n",
    "    def __init__(self,meta): \n",
    "        self.meta_data=meta\n",
    "    \n",
    "    def merge_data(self,data):\n",
    "        \"\"\"\n",
    "        Merges the data ( which was a dic) into a DF\n",
    "        \"\"\"\n",
    "        self.data=data\n",
    "        self.data['X_train']['data']='train'\n",
    "        self.data['X_train']['target']=data['y_train']\n",
    "        self.data['X_val']['data']='val'\n",
    "        self.data['X_val']['target']=data['y_val']\n",
    "        self.data['X_test']['data']='test'\n",
    "        self.data['X_test']['target']=-1\n",
    "        all_data=pd.concat([self.data['X_train'],self.data['X_val'],self.data['X_test']],axis=0)\n",
    "        all_data.reset_index(drop=True,inplace=True)\n",
    "        return all_data\n",
    "    \n",
    "        \n",
    "    def create_dummies(self,data):\n",
    "        \"\"\"\n",
    "        input-> merged data(as a df)\n",
    "        \"\"\"\n",
    "        data=data\n",
    "        nominal_variables= self.meta_data[(self.meta_data.level == 'nominal') & (self.meta_data.keep)].index\n",
    "        print('Before creating dummies- Total variables: {}'.format(data.shape[1]))\n",
    "        data=pd.get_dummies(data, columns=nominal_variables, drop_first=True)\n",
    "        print('After creating dummies- Total variables: {}'.format(data.shape[1]))\n",
    "        return data\n",
    "    \n",
    "    def interaction_vars(self,data_with_dummies,degree=2):\n",
    "        \"\"\"\n",
    "        interaction of all interval variables. data_with_dummies(DF) & Degree as input\n",
    "        \"\"\"\n",
    "        data=data_with_dummies        \n",
    "        interval_varaibles=self.meta_data[(self.meta_data.level == 'interval') & (self.meta_data.keep)].index\n",
    "        print('Before creating interactions we have {} variables'.format(data.shape[1]))\n",
    "        \n",
    "        higher_order=PolynomialFeatures(degree=degree,interaction_only=False,include_bias=False)\n",
    "        interactions=pd.DataFrame(data=higher_order.fit_transform(data[interval_varaibles]),\\\n",
    "                                  columns=higher_order.get_feature_names(interval_varaibles))\n",
    "        \n",
    "        #drop the original variables as interaction variables include the original variables too\n",
    "        interactions.drop(interval_varaibles,axis=1,inplace=True)\n",
    "        all_data_inter_vars = pd.concat([data, interactions], axis=1)\n",
    "        print('After creating interactions we have {} variables'.format(all_data_inter_vars.shape[1]))\n",
    "        return all_data_inter_vars"
   ]
  },
  {
   "cell_type": "code",
   "execution_count": 89,
   "metadata": {},
   "outputs": [],
   "source": [
    "#all_data_dic_imputed_TE,\n",
    "feature_eng_instance=feature_engineering(meta_data_imputed_TE)\n",
    "model_data_df=feature_eng_instance.merge_data(all_data_dic_imputed_TE)"
   ]
  },
  {
   "cell_type": "code",
   "execution_count": 90,
   "metadata": {},
   "outputs": [
    {
     "name": "stdout",
     "output_type": "stream",
     "text": [
      "Before creating dummies- Total variables: 62\n",
      "After creating dummies- Total variables: 114\n",
      "Before creating interactions we have 114 variables\n",
      "After creating interactions we have 169 variables\n"
     ]
    }
   ],
   "source": [
    "model_data_df_dummies=feature_eng_instance.create_dummies(model_data_df)\n",
    "model_data_df_dummies_interaction=feature_eng_instance.interaction_vars(model_data_df_dummies)"
   ]
  },
  {
   "cell_type": "code",
   "execution_count": 91,
   "metadata": {},
   "outputs": [],
   "source": [
    "#from above we can use which ever we wish"
   ]
  },
  {
   "cell_type": "markdown",
   "metadata": {},
   "source": [
    "### Feature Selection"
   ]
  },
  {
   "cell_type": "code",
   "execution_count": 94,
   "metadata": {},
   "outputs": [],
   "source": [
    "class featureSelection:\n",
    "    \n",
    "    def __init__(self):\n",
    "        pass\n",
    "    \n",
    "    def var_threshold(self,data,Variance_threshold=0.01):      \n",
    "        selector = VarianceThreshold(threshold=Variance_threshold)\n",
    "        selector.fit(data.drop(['id','data', 'target'], axis=1))\n",
    "        f = np.vectorize(lambda x : not x)\n",
    "        v = data.drop(['id','data', 'target'], axis=1).columns[f(selector.get_support())]\n",
    "        print('{} variables have less than threshold variance.'.format(len(v)))\n",
    "        print('These variables are {}'.format(list(v)))\n",
    "        clean_data=data.drop(v,axis=1)\n",
    "        print('Final Clean variable count {}'.format(clean_data.shape[1]))\n",
    "        return clean_data\n",
    "    \n",
    "    def rf_var_importance(self):\n",
    "        pass"
   ]
  },
  {
   "cell_type": "code",
   "execution_count": 257,
   "metadata": {},
   "outputs": [
    {
     "name": "stdout",
     "output_type": "stream",
     "text": [
      "50 variables have less than threshold variance.\n",
      "These variables are ['ps_ind_10_bin', 'ps_ind_11_bin', 'ps_ind_12_bin', 'ps_ind_13_bin', 'ps_ind_14', 'ps_car_12', 'ps_car_11_cat_TE', 'ps_ind_02_cat_3', 'ps_ind_02_cat_4', 'ps_ind_05_cat_1', 'ps_ind_05_cat_2', 'ps_ind_05_cat_3', 'ps_ind_05_cat_4', 'ps_ind_05_cat_5', 'ps_ind_05_cat_6', 'ps_car_01_cat_0', 'ps_car_01_cat_1', 'ps_car_01_cat_2', 'ps_car_01_cat_3', 'ps_car_01_cat_4', 'ps_car_01_cat_5', 'ps_car_01_cat_8', 'ps_car_01_cat_9', 'ps_car_04_cat_2', 'ps_car_04_cat_3', 'ps_car_04_cat_4', 'ps_car_04_cat_5', 'ps_car_04_cat_6', 'ps_car_04_cat_7', 'ps_car_04_cat_8', 'ps_car_04_cat_9', 'ps_car_06_cat_2', 'ps_car_06_cat_3', 'ps_car_06_cat_4', 'ps_car_06_cat_5', 'ps_car_06_cat_6', 'ps_car_06_cat_7', 'ps_car_06_cat_8', 'ps_car_06_cat_9', 'ps_car_06_cat_12', 'ps_car_06_cat_13', 'ps_car_06_cat_15', 'ps_car_06_cat_16', 'ps_car_06_cat_17', 'ps_car_07_cat_0', 'ps_car_09_cat_1', 'ps_car_09_cat_3', 'ps_car_09_cat_4', 'ps_car_10_cat_1', 'ps_car_10_cat_2']\n",
      "Final Clean variable count 64\n"
     ]
    }
   ],
   "source": [
    "fs_object=featureSelection()\n",
    "clean_data=fs_object.var_threshold(model_data_df_dummies,0.05) #0.01 is selected based on the Decribe Function"
   ]
  },
  {
   "cell_type": "markdown",
   "metadata": {},
   "source": [
    "### Modelling"
   ]
  },
  {
   "cell_type": "code",
   "execution_count": 201,
   "metadata": {},
   "outputs": [],
   "source": [
    "class ML_algos:\n",
    "    \"\"\"\n",
    "    Perform Grid Search and decide the best parameters on the val data. Use these best parameters\n",
    "    to create a final model to predict on test\n",
    "    \"\"\"\n",
    "    def __init__(self,data,cv=5):\n",
    "        self.X_train=data[data['data']=='train'].drop(['id','data','target'],axis=1)\n",
    "        self.X_val=data[data['data']=='val'].drop(['id','data','target'],axis=1)\n",
    "        self.X_test=data[data['data']=='test'].drop(['id','data','target'],axis=1)\n",
    "        self.y_train=data[data['data']=='train']['target']\n",
    "        self.y_val=data[data['data']=='val']['target']\n",
    "        self.cv=cv\n",
    "        \n",
    "    def random_forest(self,params):\n",
    "        clf_rf=RandomForestClassifier(class_weight='balanced')\n",
    "        grid_search_clf = GridSearchCV(clf_rf, params, cv=self.cv,n_jobs=-1,scoring='f1')\n",
    "        grid_search_clf.fit(self.X_train,self.y_train)\n",
    "        print(grid_search_clf.best_estimator_)\n",
    "        val_rf_prob=grid_search_clf.predict_proba(self.X_val)[:,1]\n",
    "        test_rf_prob=grid_search_clf.predict_proba(self.X_test)[:,1]\n",
    "        #save model on disk\n",
    "        best_rf_model=grid_search_clf.best_estimator_\n",
    "        filename = 'rf_best_model.sav'\n",
    "        joblib.dump(best_rf_model, filename)\n",
    "        return (val_rf_prob,test_rf_prob)\n",
    "        \n",
    "    \n",
    "    def xgb(self,params):\n",
    "        clf_xgb = XGBClassifier(objective = 'binary:logistic')\n",
    "        clf = GridSearchCV(clf_xgb, \\\n",
    "            param_grid = params,cv=self.cv,scoring = 'roc_auc',verbose = 0, n_jobs = -1)\n",
    "        #To do Statified k fold use-->StratifiedKFold(train['Column'],n_folds=5,shuffle=True)\n",
    "        clf.fit(self.X_train,self.y_train)\n",
    "        #print(clf.best_estimator_) #gives the best values of all paramters\n",
    "        print(clf.best_params_) #gives the best values of the paramters (only from the grid search)\n",
    "        print(clf.best_score_) #gives the best score on the objective of the classifier\n",
    "        # clf.cv_results_  gives results as a table\n",
    "        val_xgb_prob=clf.best_estimator_.predict_proba(self.X_val)[:,1]\n",
    "        test_xgb_prob=clf.best_estimator_.predict_proba(self.X_test)[:,1]\n",
    "        #save model to disk\n",
    "        best_xgb_model=clf.best_estimator_\n",
    "        filename = 'xgb_best_model.sav'\n",
    "        joblib.dump(best_xgb_model, filename)       \n",
    "        return (val_xgb_prob,test_xgb_prob)\n",
    "    \n",
    "    \n",
    "    def light_GBM(self,params):        \n",
    "        clf_lgb = lgb.LGBMClassifier(silent=False)\n",
    "        clf = GridSearchCV(clf_lgb, n_jobs=-1, param_grid=params, cv = self.cv, scoring=\"roc_auc\", verbose=5,\\\n",
    "                          fobj='binary',is_unbalance=True,early_stopping_rounds=30)\n",
    "        clf.fit(self.X_train,self.y_train)\n",
    "        print(clf.best_estimator_)\n",
    "        print(clf.best_score_)\n",
    "        val_lgbm_prob=clf.best_estimator_.predict_proba(self.X_val)[:,1]\n",
    "        test_lgbm_prob=clf.best_estimator_.predict_proba(self.X_test)[:,1]\n",
    "        \n",
    "        #save model to disk\n",
    "        best_xgb_model=clf.best_estimator_\n",
    "        filename = 'xgb_best_model.sav'\n",
    "        joblib.dump(best_xgb_model, filename) \n",
    "        return (val_lgbm_prob,test_lgbm_prob)\n",
    "    "
   ]
  },
  {
   "cell_type": "code",
   "execution_count": 202,
   "metadata": {},
   "outputs": [],
   "source": [
    "ml=ML_algos(clean_data,3)"
   ]
  },
  {
   "cell_type": "code",
   "execution_count": 203,
   "metadata": {},
   "outputs": [
    {
     "name": "stdout",
     "output_type": "stream",
     "text": [
      "RandomForestClassifier(bootstrap=True, class_weight='balanced',\n",
      "            criterion='gini', max_depth=30, max_features='log2',\n",
      "            max_leaf_nodes=None, min_impurity_decrease=0.0,\n",
      "            min_impurity_split=None, min_samples_leaf=40,\n",
      "            min_samples_split=2, min_weight_fraction_leaf=0.0,\n",
      "            n_estimators=700, n_jobs=1, oob_score=False, random_state=None,\n",
      "            verbose=0, warm_start=False)\n",
      "{'auc': 0.5930417820581197, 'accuracy': 0.6389860764012852, 'precision': 0.05410424091438589, 'recall': 0.5435059668636311, 'f1': 0.09841189921748798, 'pr_auc_score': 0.3070794596863078}\n",
      "Wall time: 3h 26min 16s\n"
     ]
    }
   ],
   "source": [
    "%%time\n",
    "#RANDOM FOREST\n",
    "rf_params = {'n_estimators': [550,700],\n",
    "              'max_features': ['log2','sqrt'], #, 'sqrt','auto'\n",
    "              'criterion': [ 'gini'], #'entropy',\n",
    "              'max_depth': [30,50],\n",
    "              'min_samples_leaf': [20,40],\n",
    "             'class_weight':['balanced']\n",
    "             }\n",
    "val_rf_prob,test_rf_prob=ml.random_forest(rf_params)\n",
    "print(printScore(np.where(val_rf_prob>0.35,1,0),clean_data[clean_data['data']=='val']['target']))"
   ]
  },
  {
   "cell_type": "code",
   "execution_count": 204,
   "metadata": {},
   "outputs": [
    {
     "name": "stdout",
     "output_type": "stream",
     "text": [
      "{'colsample_bytree': 0.5, 'eta': 0.02, 'eval_metric': 'logloss', 'max_depth': 20, 'subsample': 0.9}\n",
      "0.6174526825787622\n",
      "{'auc': 0.5001672548865826, 'accuracy': 0.9637482411743705, 'precision': 0.5, 'recall': 0.0003475842891901286, 'f1': 0.0006946856547412297, 'pr_auc_score': 0.26829337128649816}\n",
      "Wall time: 1h 19min 2s\n"
     ]
    }
   ],
   "source": [
    "%%time\n",
    "#XGB\n",
    "num_boost_round=100\n",
    "xgb_params = {'eta': [0.02],\n",
    "              'max_depth': [20,30], \n",
    "              'subsample':[ 0.6,0.9],\n",
    "              'colsample_bytree': [0.5,0.6],\n",
    "              'eval_metric': ['logloss']}\n",
    "\n",
    "val_xgb_prob,test_xgb_prob=ml.xgb(xgb_params)\n",
    "print(printScore(np.where(val_xgb_prob>0.35,1,0),clean_data[clean_data['data']=='val']['target']))"
   ]
  },
  {
   "cell_type": "code",
   "execution_count": 205,
   "metadata": {},
   "outputs": [
    {
     "name": "stdout",
     "output_type": "stream",
     "text": [
      "{'colsample_bytree': 0.5, 'eta': 0.02, 'eval_metric': 'logloss', 'max_depth': 20, 'subsample': 0.9}\n",
      "0.6174526825787622\n",
      "{'auc': 0.5001672548865826, 'accuracy': 0.9637482411743705, 'precision': 0.5, 'recall': 0.0003475842891901286, 'f1': 0.0006946856547412297, 'pr_auc_score': 0.26829337128649816}\n",
      "Wall time: 1h 11min 48s\n"
     ]
    }
   ],
   "source": [
    "%%time\n",
    "\n",
    "l_gbm_params= {\"max_depth\": [5,10, 15],\n",
    "              \"learning_rate\" : [0.05,0.1],\n",
    "              \"num_leaves\": [30,10,40],\n",
    "              \"n_estimators\": [200,400],\n",
    "               'feature_fraction':[0.7,0.5],\n",
    "               'bagging_fraction':[0.7,0.5]\n",
    "             }\n",
    "\n",
    "val_lgbm_prob,test_lgbm_prob=ml.xgb(xgb_params)\n",
    "print(printScore(np.where(val_lgbm_prob>0.35,1,0),clean_data[clean_data['data']=='val']['target']))"
   ]
  },
  {
   "cell_type": "markdown",
   "metadata": {},
   "source": [
    "### Feature Importance"
   ]
  },
  {
   "cell_type": "code",
   "execution_count": 231,
   "metadata": {},
   "outputs": [],
   "source": [
    "loaded_model = joblib.load('rf_best_model.sav')\n",
    "importances=loaded_model.feature_importances_"
   ]
  },
  {
   "cell_type": "code",
   "execution_count": 245,
   "metadata": {},
   "outputs": [],
   "source": [
    "indices=np.argsort(importances)[::-1]\n",
    "variable_names=[clean_data[clean_data['data']=='train'].drop(['data','target'],axis=1).columns[i] for i in indices]"
   ]
  },
  {
   "cell_type": "code",
   "execution_count": 256,
   "metadata": {},
   "outputs": [
    {
     "data": {
      "image/png": "[encoded data removed]",
      "text/plain": [
       "<Figure size 1728x720 with 1 Axes>"
      ]
     },
     "metadata": {},
     "output_type": "display_data"
    }
   ],
   "source": [
    "\n",
    "plt.subplots(figsize=(24,10));\n",
    "plt.bar(range(len(variable_names)),importances[indices]);\n",
    "plt.xticks(range(len(variable_names)),variable_names,rotation=30);\n",
    "plt.title(\"Variable Importance (RF)\")\n",
    "plt.show();"
   ]
  },
  {
   "cell_type": "markdown",
   "metadata": {},
   "source": [
    "### Ensemble Modelling ( rf+XGB+LightGBM )"
   ]
  },
  {
   "cell_type": "code",
   "execution_count": 206,
   "metadata": {},
   "outputs": [],
   "source": [
    "# all_model_result_train=pd.DataFrame({'RF':train_rf_prob,'XGB':train_xgb_prob,'L_GBM':train_lgbm_prob,\\\n",
    "#                                    'target':clean_data[clean_data['data']=='train']['target']})\n",
    "\n",
    "\n",
    "all_model_result_val=pd.DataFrame({'RF':val_rf_prob,'XGB':val_xgb_prob,'L_GBM':val_lgbm_prob,\\\n",
    "                                   'target':clean_data[clean_data['data']=='val']['target']})\n",
    "\n",
    "\n",
    "all_model_result_test=pd.DataFrame({'RF':test_rf_prob,'XGB':test_xgb_prob,'L_GBM':test_lgbm_prob})"
   ]
  },
  {
   "cell_type": "code",
   "execution_count": 207,
   "metadata": {},
   "outputs": [
    {
     "data": {
      "text/html": [
       "<div>\n",
       "<style scoped>\n",
       "    .dataframe tbody tr th:only-of-type {\n",
       "        vertical-align: middle;\n",
       "    }\n",
       "\n",
       "    .dataframe tbody tr th {\n",
       "        vertical-align: top;\n",
       "    }\n",
       "\n",
       "    .dataframe thead th {\n",
       "        text-align: right;\n",
       "    }\n",
       "</style>\n",
       "<table border=\"1\" class=\"dataframe\">\n",
       "  <thead>\n",
       "    <tr style=\"text-align: right;\">\n",
       "      <th></th>\n",
       "      <th>RF</th>\n",
       "      <th>XGB</th>\n",
       "      <th>L_GBM</th>\n",
       "      <th>target</th>\n",
       "    </tr>\n",
       "  </thead>\n",
       "  <tbody>\n",
       "    <tr>\n",
       "      <th>357127</th>\n",
       "      <td>0.456794</td>\n",
       "      <td>0.111837</td>\n",
       "      <td>0.111837</td>\n",
       "      <td>0</td>\n",
       "    </tr>\n",
       "    <tr>\n",
       "      <th>357128</th>\n",
       "      <td>0.311828</td>\n",
       "      <td>0.100320</td>\n",
       "      <td>0.100320</td>\n",
       "      <td>0</td>\n",
       "    </tr>\n",
       "    <tr>\n",
       "      <th>357129</th>\n",
       "      <td>0.276995</td>\n",
       "      <td>0.088488</td>\n",
       "      <td>0.088488</td>\n",
       "      <td>0</td>\n",
       "    </tr>\n",
       "    <tr>\n",
       "      <th>357130</th>\n",
       "      <td>0.264089</td>\n",
       "      <td>0.086357</td>\n",
       "      <td>0.086357</td>\n",
       "      <td>0</td>\n",
       "    </tr>\n",
       "    <tr>\n",
       "      <th>357131</th>\n",
       "      <td>0.334903</td>\n",
       "      <td>0.103881</td>\n",
       "      <td>0.103881</td>\n",
       "      <td>0</td>\n",
       "    </tr>\n",
       "  </tbody>\n",
       "</table>\n",
       "</div>"
      ],
      "text/plain": [
       "              RF       XGB     L_GBM  target\n",
       "357127  0.456794  0.111837  0.111837       0\n",
       "357128  0.311828  0.100320  0.100320       0\n",
       "357129  0.276995  0.088488  0.088488       0\n",
       "357130  0.264089  0.086357  0.086357       0\n",
       "357131  0.334903  0.103881  0.103881       0"
      ]
     },
     "execution_count": 207,
     "metadata": {},
     "output_type": "execute_result"
    }
   ],
   "source": [
    "all_model_result_val.head()"
   ]
  },
  {
   "cell_type": "markdown",
   "metadata": {},
   "source": [
    "#### Logistic Regression"
   ]
  },
  {
   "cell_type": "code",
   "execution_count": 208,
   "metadata": {},
   "outputs": [],
   "source": [
    "logit=LogisticRegression()\n",
    "logit.fit(all_model_result_val[['RF','XGB','L_GBM']],all_model_result_val['target'])\n",
    "val_prob=logit.predict_proba(all_model_result_val[['RF','XGB','L_GBM']])\n",
    "test_prob=logit.predict_proba(all_model_result_test)"
   ]
  },
  {
   "cell_type": "code",
   "execution_count": 209,
   "metadata": {},
   "outputs": [
    {
     "data": {
      "text/plain": [
       "{'auc': 0.5715891817565331,\n",
       " 'accuracy': 0.8265283407186509,\n",
       " 'precision': 0.06776566469093988,\n",
       " 'recall': 0.2967211215386398,\n",
       " 'f1': 0.11033323998879864,\n",
       " 'pr_auc_score': 0.19499094125936006}"
      ]
     },
     "execution_count": 209,
     "metadata": {},
     "output_type": "execute_result"
    }
   ],
   "source": [
    "printScore(np.where(val_prob[:,1]>0.05,1,0),clean_data[clean_data['data']=='val']['target'])"
   ]
  },
  {
   "cell_type": "code",
   "execution_count": 210,
   "metadata": {},
   "outputs": [],
   "source": [
    "submission_results={'id':test['id'],'target':test_prob[:,1]}\n",
    "submission_file=pd.DataFrame(submission_results)\n",
    "submission_file.to_csv(\"result_ensemble.csv\",index=False)"
   ]
  },
  {
   "cell_type": "markdown",
   "metadata": {},
   "source": [
    "#### Average Probs of the 3"
   ]
  },
  {
   "cell_type": "code",
   "execution_count": 211,
   "metadata": {},
   "outputs": [],
   "source": [
    "submission_avg={'id':test['id'],'target':(test_rf_prob+test_xgb_prob+test_lgbm_prob)/3}\n",
    "submission_file=pd.DataFrame(submission_avg)\n",
    "submission_file.to_csv(\"result_ensemble_avg.csv\",index=False)"
   ]
  },
  {
   "cell_type": "code",
   "execution_count": null,
   "metadata": {},
   "outputs": [],
   "source": []
  }
 ],
 "metadata": {
  "kernelspec": {
   "display_name": "Python 3",
   "language": "python",
   "name": "python3"
  },
  "language_info": {
   "codemirror_mode": {
    "name": "ipython",
    "version": 3
   },
   "file_extension": ".py",
   "mimetype": "text/x-python",
   "name": "python",
   "nbconvert_exporter": "python",
   "pygments_lexer": "ipython3",
   "version": "3.6.5"
  }
 },
 "nbformat": 4,
 "nbformat_minor": 2
}
